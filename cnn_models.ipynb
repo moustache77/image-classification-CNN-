{
 "cells": [
  {
   "cell_type": "code",
   "execution_count": 5,
   "metadata": {
    "execution": {
     "iopub.execute_input": "2021-08-13T00:09:20.324613Z",
     "iopub.status.busy": "2021-08-13T00:09:20.324240Z",
     "iopub.status.idle": "2021-08-13T00:09:20.329218Z",
     "shell.execute_reply": "2021-08-13T00:09:20.328083Z",
     "shell.execute_reply.started": "2021-08-13T00:09:20.324581Z"
    },
    "id": "3ERGNyzyjszb"
   },
   "outputs": [],
   "source": [
    "import numpy as np\n",
    "import pandas as pd\n",
    "import tensorflow as tf\n",
    "from tensorflow import keras\n",
    "from tensorflow.keras import layers\n",
    "from tensorflow.keras import regularizers"
   ]
  },
  {
   "cell_type": "markdown",
   "metadata": {
    "id": "8FIOdH8eqzDD"
   },
   "source": [
    "# Load Data"
   ]
  },
  {
   "cell_type": "code",
   "execution_count": 8,
   "metadata": {
    "execution": {
     "iopub.execute_input": "2021-08-13T00:09:57.546861Z",
     "iopub.status.busy": "2021-08-13T00:09:57.546531Z",
     "iopub.status.idle": "2021-08-13T00:09:58.618665Z",
     "shell.execute_reply": "2021-08-13T00:09:58.617749Z",
     "shell.execute_reply.started": "2021-08-13T00:09:57.546831Z"
    }
   },
   "outputs": [
    {
     "data": {
      "text/plain": [
       "(32000, 28, 56)"
      ]
     },
     "execution_count": 8,
     "metadata": {},
     "output_type": "execute_result"
    }
   ],
   "source": [
    "# Loading the dataset - on kaggle notebook\n",
    "\n",
    "x_data = np.load('../input/273-intro-to-prac-ml-summer2021/x_data_273.npy')#需要自行修改路径\n",
    "y_data = np.load('../input/273-intro-to-prac-ml-summer2021/y_data_273.npy')\n",
    "x_test = np.load('../input/273-intro-to-prac-ml-summer2021/x_test_273.npy')\n",
    "x_data.shape"
   ]
  },
  {
   "cell_type": "code",
   "execution_count": 9,
   "metadata": {
    "execution": {
     "iopub.execute_input": "2021-08-13T00:10:01.951383Z",
     "iopub.status.busy": "2021-08-13T00:10:01.951036Z",
     "iopub.status.idle": "2021-08-13T00:10:01.960090Z",
     "shell.execute_reply": "2021-08-13T00:10:01.959349Z",
     "shell.execute_reply.started": "2021-08-13T00:10:01.951349Z"
    },
    "id": "vo62tN9uIiiX",
    "outputId": "200c1d33-77df-490e-f0fb-65dd0f879ddb"
   },
   "outputs": [
    {
     "data": {
      "text/plain": [
       "(32000, 28, 56)"
      ]
     },
     "execution_count": 9,
     "metadata": {},
     "output_type": "execute_result"
    }
   ],
   "source": [
    "x_data.shape"
   ]
  },
  {
   "cell_type": "code",
   "execution_count": 10,
   "metadata": {
    "execution": {
     "iopub.execute_input": "2021-08-13T00:10:02.202623Z",
     "iopub.status.busy": "2021-08-13T00:10:02.202254Z",
     "iopub.status.idle": "2021-08-13T00:10:02.209217Z",
     "shell.execute_reply": "2021-08-13T00:10:02.208300Z",
     "shell.execute_reply.started": "2021-08-13T00:10:02.202593Z"
    },
    "id": "8fSuc6PtPq-R",
    "outputId": "2a1adf7d-4faa-42ca-e7ef-258b2ad03ad1"
   },
   "outputs": [
    {
     "data": {
      "text/plain": [
       "(32000,)"
      ]
     },
     "execution_count": 10,
     "metadata": {},
     "output_type": "execute_result"
    }
   ],
   "source": [
    "y_data.shape"
   ]
  },
  {
   "cell_type": "code",
   "execution_count": 11,
   "metadata": {
    "execution": {
     "iopub.execute_input": "2021-08-13T00:10:02.416401Z",
     "iopub.status.busy": "2021-08-13T00:10:02.416070Z",
     "iopub.status.idle": "2021-08-13T00:10:02.422007Z",
     "shell.execute_reply": "2021-08-13T00:10:02.421005Z",
     "shell.execute_reply.started": "2021-08-13T00:10:02.416368Z"
    },
    "id": "Giue68jDkq3C",
    "outputId": "0dc823db-d217-4db2-8bcc-6de1648151d5"
   },
   "outputs": [
    {
     "data": {
      "text/plain": [
       "(10000, 28, 56)"
      ]
     },
     "execution_count": 11,
     "metadata": {},
     "output_type": "execute_result"
    }
   ],
   "source": [
    "x_test.shape"
   ]
  },
  {
   "cell_type": "code",
   "execution_count": 12,
   "metadata": {
    "execution": {
     "iopub.execute_input": "2021-08-13T00:10:02.865230Z",
     "iopub.status.busy": "2021-08-13T00:10:02.864890Z",
     "iopub.status.idle": "2021-08-13T00:10:03.030207Z",
     "shell.execute_reply": "2021-08-13T00:10:03.029218Z",
     "shell.execute_reply.started": "2021-08-13T00:10:02.865198Z"
    },
    "id": "q1aCCyQzAvW5",
    "outputId": "ac0e7bf9-d0b6-40c9-abf1-0adffaf71c90"
   },
   "outputs": [
    {
     "data": {
      "text/plain": [
       "<matplotlib.image.AxesImage at 0x7f7fa6150d90>"
      ]
     },
     "execution_count": 12,
     "metadata": {},
     "output_type": "execute_result"
    },
    {
     "data": {
      "image/png": "[encoded data removed]",
      "text/plain": [
       "<Figure size 432x288 with 1 Axes>"
      ]
     },
     "metadata": {
      "needs_background": "light"
     },
     "output_type": "display_data"
    }
   ],
   "source": [
    "# The dataset comprises of 32000 samples\n",
    "\n",
    "import matplotlib.pyplot as plt\n",
    "plt.imshow(x_data[0])\n",
    "# plt.savefig('header.png', dpi=300)\n"
   ]
  },
  {
   "cell_type": "code",
   "execution_count": 13,
   "metadata": {
    "execution": {
     "iopub.execute_input": "2021-08-13T00:10:03.673169Z",
     "iopub.status.busy": "2021-08-13T00:10:03.672768Z",
     "iopub.status.idle": "2021-08-13T00:10:03.679492Z",
     "shell.execute_reply": "2021-08-13T00:10:03.678428Z",
     "shell.execute_reply.started": "2021-08-13T00:10:03.673134Z"
    }
   },
   "outputs": [
    {
     "data": {
      "text/plain": [
       "(32000, 1568)"
      ]
     },
     "execution_count": 13,
     "metadata": {},
     "output_type": "execute_result"
    }
   ],
   "source": [
    "x_data2 = np.reshape(x_data, (-1, int(28*56)))\n",
    "x_data2.shape"
   ]
  },
  {
   "cell_type": "code",
   "execution_count": 14,
   "metadata": {
    "execution": {
     "iopub.execute_input": "2021-08-13T00:10:04.219744Z",
     "iopub.status.busy": "2021-08-13T00:10:04.219388Z",
     "iopub.status.idle": "2021-08-13T00:10:04.277745Z",
     "shell.execute_reply": "2021-08-13T00:10:04.276812Z",
     "shell.execute_reply.started": "2021-08-13T00:10:04.219712Z"
    },
    "id": "KAbH5ufKr_l0"
   },
   "outputs": [],
   "source": [
    "# Keras CNN layers expect the input to be float\n",
    "\n",
    "x_data3 = x_data.astype('float32')\n",
    "\n",
    "# Expanding dimensions of x_data to match (batch_size, height, width, depth/channels)\n",
    "# Even if the image is grayscale, it requires that a non-zero value is provided as the depth\n",
    "\n",
    "x_data3 = np.expand_dims(x_data3, axis=-1)"
   ]
  },
  {
   "cell_type": "code",
   "execution_count": 15,
   "metadata": {
    "execution": {
     "iopub.execute_input": "2021-08-13T00:10:04.872561Z",
     "iopub.status.busy": "2021-08-13T00:10:04.872196Z",
     "iopub.status.idle": "2021-08-13T00:10:04.878273Z",
     "shell.execute_reply": "2021-08-13T00:10:04.877150Z",
     "shell.execute_reply.started": "2021-08-13T00:10:04.872529Z"
    },
    "id": "_jywCYWV0rFm",
    "outputId": "222381c5-4be4-40ca-9219-30e8d0b86236"
   },
   "outputs": [
    {
     "data": {
      "text/plain": [
       "(32000, 28, 56, 1)"
      ]
     },
     "execution_count": 15,
     "metadata": {},
     "output_type": "execute_result"
    }
   ],
   "source": [
    "x_data3.shape"
   ]
  },
  {
   "cell_type": "markdown",
   "metadata": {},
   "source": [
    "define functions to draw the loss plot as well as the accuracy plot"
   ]
  },
  {
   "cell_type": "code",
   "execution_count": 66,
   "metadata": {
    "execution": {
     "iopub.execute_input": "2021-08-13T00:34:05.395888Z",
     "iopub.status.busy": "2021-08-13T00:34:05.395481Z",
     "iopub.status.idle": "2021-08-13T00:34:05.406425Z",
     "shell.execute_reply": "2021-08-13T00:34:05.405341Z",
     "shell.execute_reply.started": "2021-08-13T00:34:05.395844Z"
    }
   },
   "outputs": [],
   "source": [
    "import matplotlib.pyplot as plt\n",
    "def plotacc(history):\n",
    "    history_dict = history.history\n",
    "    loss_values = history_dict[\"loss\"]\n",
    "    val_loss_values = history_dict[\"val_loss\"]\n",
    "    epochs = range(1, len(loss_values) + 1)\n",
    "    plt.plot(epochs, loss_values, \"bo\", label=\"Training loss\")\n",
    "    plt.plot(epochs, val_loss_values, \"b\", label=\"Validation loss\")\n",
    "    plt.title(\"Training and validation loss\")\n",
    "    plt.xlabel(\"Epochs\")\n",
    "    plt.ylabel(\"Loss\")\n",
    "    plt.legend()\n",
    "    plt.show()\n",
    "    plt.clf()\n",
    "    acc = history_dict[\"accuracy\"]\n",
    "    val_acc = history_dict[\"val_accuracy\"]\n",
    "    plt.plot(epochs, acc, \"bo\", label=\"Training acc\")\n",
    "    plt.plot(epochs, val_acc, \"b\", label=\"Validation acc\")\n",
    "    plt.title(\"Training and validation accuracy\")\n",
    "    plt.xlabel(\"Epochs\")\n",
    "    plt.ylabel(\"Accuracy\")\n",
    "    plt.legend()\n",
    "    plt.show()"
   ]
  },
  {
   "cell_type": "markdown",
   "metadata": {},
   "source": [
    "# Model"
   ]
  },
  {
   "cell_type": "markdown",
   "metadata": {},
   "source": [
    "### Model 1 date 2021/08/06"
   ]
  },
  {
   "cell_type": "code",
   "execution_count": 71,
   "metadata": {
    "execution": {
     "iopub.execute_input": "2021-08-13T00:34:29.487151Z",
     "iopub.status.busy": "2021-08-13T00:34:29.486820Z",
     "iopub.status.idle": "2021-08-13T00:34:29.518970Z",
     "shell.execute_reply": "2021-08-13T00:34:29.517951Z",
     "shell.execute_reply.started": "2021-08-13T00:34:29.487118Z"
    }
   },
   "outputs": [
    {
     "name": "stdout",
     "output_type": "stream",
     "text": [
      "Model: \"sequential_11\"\n",
      "_________________________________________________________________\n",
      "Layer (type)                 Output Shape              Param #   \n",
      "=================================================================\n",
      "dense_32 (Dense)             (None, 256)               401664    \n",
      "_________________________________________________________________\n",
      "dense_33 (Dense)             (None, 128)               32896     \n",
      "_________________________________________________________________\n",
      "dense_34 (Dense)             (None, 10)                1290      \n",
      "=================================================================\n",
      "Total params: 435,850\n",
      "Trainable params: 435,850\n",
      "Non-trainable params: 0\n",
      "_________________________________________________________________\n"
     ]
    }
   ],
   "source": [
    "# #model_01 test date 2021/08/06\n",
    "model_01 = keras.Sequential([\n",
    "    layers.Dense(256, activation=\"relu\"),\n",
    "    layers.Dense(128, activation=\"relu\"),\n",
    "    layers.Dense(10, activation=\"sigmoid\")\n",
    "])\n",
    "\n",
    "model_01.build(input_shape=(None,1568))\n",
    "model_01.summary()"
   ]
  },
  {
   "cell_type": "code",
   "execution_count": 72,
   "metadata": {
    "execution": {
     "iopub.execute_input": "2021-08-13T00:34:30.305051Z",
     "iopub.status.busy": "2021-08-13T00:34:30.304695Z",
     "iopub.status.idle": "2021-08-13T00:34:30.317172Z",
     "shell.execute_reply": "2021-08-13T00:34:30.316032Z",
     "shell.execute_reply.started": "2021-08-13T00:34:30.305019Z"
    }
   },
   "outputs": [],
   "source": [
    "model_01.compile(optimizer=\"rmsprop\",\n",
    "                loss=\"sparse_categorical_crossentropy\",\n",
    "                metrics=[\"accuracy\"])"
   ]
  },
  {
   "cell_type": "code",
   "execution_count": 73,
   "metadata": {
    "execution": {
     "iopub.execute_input": "2021-08-13T00:34:30.946306Z",
     "iopub.status.busy": "2021-08-13T00:34:30.945980Z",
     "iopub.status.idle": "2021-08-13T00:34:39.473709Z",
     "shell.execute_reply": "2021-08-13T00:34:39.472886Z",
     "shell.execute_reply.started": "2021-08-13T00:34:30.946272Z"
    }
   },
   "outputs": [
    {
     "name": "stdout",
     "output_type": "stream",
     "text": [
      "Epoch 1/40\n",
      "50/50 [==============================] - 1s 15ms/step - loss: 80.8064 - accuracy: 0.2732 - val_loss: 23.3741 - val_accuracy: 0.2509\n",
      "Epoch 2/40\n",
      "50/50 [==============================] - 0s 4ms/step - loss: 7.1120 - accuracy: 0.4954 - val_loss: 13.9140 - val_accuracy: 0.2836\n",
      "Epoch 3/40\n",
      "50/50 [==============================] - 0s 4ms/step - loss: 3.0900 - accuracy: 0.5927 - val_loss: 9.1939 - val_accuracy: 0.2944\n",
      "Epoch 4/40\n",
      "50/50 [==============================] - 0s 4ms/step - loss: 1.8714 - accuracy: 0.6500 - val_loss: 7.5043 - val_accuracy: 0.2944\n",
      "Epoch 5/40\n",
      "50/50 [==============================] - 0s 4ms/step - loss: 1.2238 - accuracy: 0.7162 - val_loss: 7.5930 - val_accuracy: 0.3328\n",
      "Epoch 6/40\n",
      "50/50 [==============================] - 0s 4ms/step - loss: 0.9454 - accuracy: 0.7614 - val_loss: 7.2245 - val_accuracy: 0.3283\n",
      "Epoch 7/40\n",
      "50/50 [==============================] - 0s 4ms/step - loss: 0.7213 - accuracy: 0.8042 - val_loss: 7.6182 - val_accuracy: 0.3419\n",
      "Epoch 8/40\n",
      "50/50 [==============================] - 0s 4ms/step - loss: 0.5705 - accuracy: 0.8388 - val_loss: 8.0395 - val_accuracy: 0.3411\n",
      "Epoch 9/40\n",
      "50/50 [==============================] - 0s 4ms/step - loss: 0.5049 - accuracy: 0.8563 - val_loss: 8.4002 - val_accuracy: 0.3520\n",
      "Epoch 10/40\n",
      "50/50 [==============================] - 0s 4ms/step - loss: 0.3992 - accuracy: 0.8807 - val_loss: 8.5874 - val_accuracy: 0.3425\n",
      "Epoch 11/40\n",
      "50/50 [==============================] - 0s 4ms/step - loss: 0.3775 - accuracy: 0.8873 - val_loss: 8.7595 - val_accuracy: 0.3545\n",
      "Epoch 12/40\n",
      "50/50 [==============================] - 0s 4ms/step - loss: 0.3161 - accuracy: 0.9072 - val_loss: 9.0754 - val_accuracy: 0.3527\n",
      "Epoch 13/40\n",
      "50/50 [==============================] - 0s 4ms/step - loss: 0.2787 - accuracy: 0.9132 - val_loss: 9.7263 - val_accuracy: 0.3684\n",
      "Epoch 14/40\n",
      "50/50 [==============================] - 0s 4ms/step - loss: 0.2131 - accuracy: 0.9307 - val_loss: 9.9235 - val_accuracy: 0.3697\n",
      "Epoch 15/40\n",
      "50/50 [==============================] - 0s 4ms/step - loss: 0.1884 - accuracy: 0.9384 - val_loss: 10.4593 - val_accuracy: 0.3719\n",
      "Epoch 16/40\n",
      "50/50 [==============================] - 0s 4ms/step - loss: 0.1947 - accuracy: 0.9390 - val_loss: 11.6580 - val_accuracy: 0.3800\n",
      "Epoch 17/40\n",
      "50/50 [==============================] - 0s 4ms/step - loss: 0.1578 - accuracy: 0.9490 - val_loss: 11.7096 - val_accuracy: 0.3809\n",
      "Epoch 18/40\n",
      "50/50 [==============================] - 0s 4ms/step - loss: 0.1476 - accuracy: 0.9539 - val_loss: 13.4504 - val_accuracy: 0.3764\n",
      "Epoch 19/40\n",
      "50/50 [==============================] - 0s 4ms/step - loss: 0.1469 - accuracy: 0.9534 - val_loss: 12.0638 - val_accuracy: 0.3728\n",
      "Epoch 20/40\n",
      "50/50 [==============================] - 0s 4ms/step - loss: 0.0998 - accuracy: 0.9683 - val_loss: 13.2460 - val_accuracy: 0.3750\n",
      "Epoch 21/40\n",
      "50/50 [==============================] - 0s 4ms/step - loss: 0.1097 - accuracy: 0.9634 - val_loss: 13.7199 - val_accuracy: 0.3794\n",
      "Epoch 22/40\n",
      "50/50 [==============================] - 0s 4ms/step - loss: 0.1060 - accuracy: 0.9660 - val_loss: 13.9591 - val_accuracy: 0.3803\n",
      "Epoch 23/40\n",
      "50/50 [==============================] - 0s 4ms/step - loss: 0.0946 - accuracy: 0.9729 - val_loss: 14.9282 - val_accuracy: 0.3817\n",
      "Epoch 24/40\n",
      "50/50 [==============================] - 0s 4ms/step - loss: 0.0897 - accuracy: 0.9701 - val_loss: 15.7526 - val_accuracy: 0.3773\n",
      "Epoch 25/40\n",
      "50/50 [==============================] - 0s 4ms/step - loss: 0.0960 - accuracy: 0.9702 - val_loss: 16.0250 - val_accuracy: 0.3777\n",
      "Epoch 26/40\n",
      "50/50 [==============================] - 0s 4ms/step - loss: 0.0632 - accuracy: 0.9811 - val_loss: 17.2790 - val_accuracy: 0.3845\n",
      "Epoch 27/40\n",
      "50/50 [==============================] - 0s 4ms/step - loss: 0.0874 - accuracy: 0.9748 - val_loss: 18.1773 - val_accuracy: 0.3797\n",
      "Epoch 28/40\n",
      "50/50 [==============================] - 0s 4ms/step - loss: 0.0851 - accuracy: 0.9751 - val_loss: 16.9288 - val_accuracy: 0.3730\n",
      "Epoch 29/40\n",
      "50/50 [==============================] - 0s 4ms/step - loss: 0.0700 - accuracy: 0.9799 - val_loss: 19.5135 - val_accuracy: 0.3916\n",
      "Epoch 30/40\n",
      "50/50 [==============================] - 0s 4ms/step - loss: 0.0582 - accuracy: 0.9832 - val_loss: 20.8194 - val_accuracy: 0.3828\n",
      "Epoch 31/40\n",
      "50/50 [==============================] - 0s 4ms/step - loss: 0.0837 - accuracy: 0.9790 - val_loss: 20.2355 - val_accuracy: 0.3894\n",
      "Epoch 32/40\n",
      "50/50 [==============================] - 0s 4ms/step - loss: 0.0517 - accuracy: 0.9860 - val_loss: 19.9371 - val_accuracy: 0.3684\n",
      "Epoch 33/40\n",
      "50/50 [==============================] - 0s 4ms/step - loss: 0.0722 - accuracy: 0.9802 - val_loss: 22.1010 - val_accuracy: 0.3875\n",
      "Epoch 34/40\n",
      "50/50 [==============================] - 0s 4ms/step - loss: 0.0510 - accuracy: 0.9863 - val_loss: 23.7565 - val_accuracy: 0.3792\n",
      "Epoch 35/40\n",
      "50/50 [==============================] - 0s 4ms/step - loss: 0.0693 - accuracy: 0.9815 - val_loss: 23.2219 - val_accuracy: 0.3870\n",
      "Epoch 36/40\n",
      "50/50 [==============================] - 0s 4ms/step - loss: 0.0673 - accuracy: 0.9818 - val_loss: 25.4056 - val_accuracy: 0.3897\n",
      "Epoch 37/40\n",
      "50/50 [==============================] - 0s 4ms/step - loss: 0.0499 - accuracy: 0.9858 - val_loss: 25.3749 - val_accuracy: 0.3920\n",
      "Epoch 38/40\n",
      "50/50 [==============================] - 0s 4ms/step - loss: 0.0426 - accuracy: 0.9884 - val_loss: 24.3302 - val_accuracy: 0.3798\n",
      "Epoch 39/40\n",
      "50/50 [==============================] - 0s 4ms/step - loss: 0.0412 - accuracy: 0.9886 - val_loss: 25.6612 - val_accuracy: 0.3845\n",
      "Epoch 40/40\n",
      "50/50 [==============================] - 0s 4ms/step - loss: 0.0520 - accuracy: 0.9859 - val_loss: 26.3781 - val_accuracy: 0.3920\n"
     ]
    }
   ],
   "source": [
    "history1=model_01.fit(x_data2, y_data, epochs=40, batch_size=512,validation_split=0.2)"
   ]
  },
  {
   "cell_type": "code",
   "execution_count": 74,
   "metadata": {
    "execution": {
     "iopub.execute_input": "2021-08-13T00:34:41.263641Z",
     "iopub.status.busy": "2021-08-13T00:34:41.263229Z",
     "iopub.status.idle": "2021-08-13T00:34:41.617175Z",
     "shell.execute_reply": "2021-08-13T00:34:41.616377Z",
     "shell.execute_reply.started": "2021-08-13T00:34:41.263604Z"
    }
   },
   "outputs": [
    {
     "data": {
      "image/png": "[encoded data removed]",
      "text/plain": [
       "<Figure size 432x288 with 1 Axes>"
      ]
     },
     "metadata": {
      "needs_background": "light"
     },
     "output_type": "display_data"
    },
    {
     "data": {
      "image/png": "[encoded data removed]",
      "text/plain": [
       "<Figure size 432x288 with 1 Axes>"
      ]
     },
     "metadata": {
      "needs_background": "light"
     },
     "output_type": "display_data"
    }
   ],
   "source": [
    "lossplot(history1)"
   ]
  },
  {
   "cell_type": "markdown",
   "metadata": {},
   "source": [
    "**Summary1:**  \n",
    "1. in model_01 we use a simple network,But The test set acc was low.   \n",
    "2. We always noticed there was a big difference between training acc and validation acc,which means maybe it was overfitting here.\n",
    "3. In addition,maybe we can use early stopping to avoid it."
   ]
  },
  {
   "cell_type": "markdown",
   "metadata": {},
   "source": [
    "### Model 2 date 2021/08/06"
   ]
  },
  {
   "cell_type": "code",
   "execution_count": 79,
   "metadata": {
    "execution": {
     "iopub.execute_input": "2021-08-13T00:44:45.467237Z",
     "iopub.status.busy": "2021-08-13T00:44:45.466886Z",
     "iopub.status.idle": "2021-08-13T00:44:45.517329Z",
     "shell.execute_reply": "2021-08-13T00:44:45.516299Z",
     "shell.execute_reply.started": "2021-08-13T00:44:45.467203Z"
    }
   },
   "outputs": [
    {
     "name": "stdout",
     "output_type": "stream",
     "text": [
      "Model: \"sequential_14\"\n",
      "_________________________________________________________________\n",
      "Layer (type)                 Output Shape              Param #   \n",
      "=================================================================\n",
      "conv2d_3 (Conv2D)            (None, 26, 54, 32)        320       \n",
      "_________________________________________________________________\n",
      "max_pooling2d_3 (MaxPooling2 (None, 13, 27, 32)        0         \n",
      "_________________________________________________________________\n",
      "dropout_6 (Dropout)          (None, 13, 27, 32)        0         \n",
      "_________________________________________________________________\n",
      "flatten_3 (Flatten)          (None, 11232)             0         \n",
      "_________________________________________________________________\n",
      "dense_39 (Dense)             (None, 128)               1437824   \n",
      "_________________________________________________________________\n",
      "dropout_7 (Dropout)          (None, 128)               0         \n",
      "_________________________________________________________________\n",
      "dense_40 (Dense)             (None, 10)                1290      \n",
      "=================================================================\n",
      "Total params: 1,439,434\n",
      "Trainable params: 1,439,434\n",
      "Non-trainable params: 0\n",
      "_________________________________________________________________\n"
     ]
    }
   ],
   "source": [
    "# model 02 CNN date 2021/08/06\n",
    "model_02 = keras.Sequential([\n",
    "    layers.Conv2D(filters=32, kernel_size=3, activation='relu'),\n",
    "    layers.MaxPool2D(),\n",
    "    layers.Dropout(0.2),\n",
    "    layers.Flatten(),\n",
    "    layers.Dense(128, activation=\"relu\"),\n",
    "    layers.Dropout(0.2),\n",
    "    layers.Dense(10, activation=\"sigmoid\")\n",
    "])\n",
    "model_02.build(input_shape=(None,28,56,1))\n",
    "model_02.summary()"
   ]
  },
  {
   "cell_type": "code",
   "execution_count": 80,
   "metadata": {
    "execution": {
     "iopub.execute_input": "2021-08-13T00:44:46.273300Z",
     "iopub.status.busy": "2021-08-13T00:44:46.272981Z",
     "iopub.status.idle": "2021-08-13T00:44:57.316532Z",
     "shell.execute_reply": "2021-08-13T00:44:57.315585Z",
     "shell.execute_reply.started": "2021-08-13T00:44:46.273269Z"
    }
   },
   "outputs": [
    {
     "name": "stdout",
     "output_type": "stream",
     "text": [
      "Epoch 1/20\n",
      "50/50 [==============================] - 1s 14ms/step - loss: 64.8237 - accuracy: 0.2244 - val_loss: 3.0181 - val_accuracy: 0.2108\n",
      "Epoch 2/20\n",
      "50/50 [==============================] - 1s 11ms/step - loss: 2.1177 - accuracy: 0.2716 - val_loss: 2.6281 - val_accuracy: 0.2128\n",
      "Epoch 3/20\n",
      "50/50 [==============================] - 0s 10ms/step - loss: 2.0828 - accuracy: 0.3053 - val_loss: 2.7407 - val_accuracy: 0.2741\n",
      "Epoch 4/20\n",
      "50/50 [==============================] - 0s 10ms/step - loss: 1.6552 - accuracy: 0.4588 - val_loss: 2.2451 - val_accuracy: 0.3680\n",
      "Epoch 5/20\n",
      "50/50 [==============================] - 0s 10ms/step - loss: 0.9088 - accuracy: 0.6944 - val_loss: 2.0720 - val_accuracy: 0.4125\n",
      "Epoch 6/20\n",
      "50/50 [==============================] - 0s 10ms/step - loss: 0.5932 - accuracy: 0.8037 - val_loss: 2.2570 - val_accuracy: 0.4094\n",
      "Epoch 7/20\n",
      "50/50 [==============================] - 1s 10ms/step - loss: 0.4489 - accuracy: 0.8460 - val_loss: 2.2099 - val_accuracy: 0.4220\n",
      "Epoch 8/20\n",
      "50/50 [==============================] - 1s 10ms/step - loss: 0.3371 - accuracy: 0.8877 - val_loss: 2.1899 - val_accuracy: 0.4339\n",
      "Epoch 9/20\n",
      "50/50 [==============================] - 1s 10ms/step - loss: 0.2712 - accuracy: 0.9072 - val_loss: 2.4148 - val_accuracy: 0.4444\n",
      "Epoch 10/20\n",
      "50/50 [==============================] - 1s 10ms/step - loss: 0.2183 - accuracy: 0.9258 - val_loss: 2.5647 - val_accuracy: 0.4433\n",
      "Epoch 11/20\n",
      "50/50 [==============================] - 1s 10ms/step - loss: 0.1874 - accuracy: 0.9357 - val_loss: 2.6595 - val_accuracy: 0.4464\n",
      "Epoch 12/20\n",
      "50/50 [==============================] - 1s 10ms/step - loss: 0.1524 - accuracy: 0.9492 - val_loss: 2.7989 - val_accuracy: 0.4583\n",
      "Epoch 13/20\n",
      "50/50 [==============================] - 1s 10ms/step - loss: 0.1320 - accuracy: 0.9530 - val_loss: 3.1114 - val_accuracy: 0.4469\n",
      "Epoch 14/20\n",
      "50/50 [==============================] - 1s 10ms/step - loss: 0.1130 - accuracy: 0.9599 - val_loss: 3.1533 - val_accuracy: 0.4530\n",
      "Epoch 15/20\n",
      "50/50 [==============================] - 1s 10ms/step - loss: 0.1065 - accuracy: 0.9636 - val_loss: 3.4339 - val_accuracy: 0.4494\n",
      "Epoch 16/20\n",
      "50/50 [==============================] - 1s 10ms/step - loss: 0.0904 - accuracy: 0.9709 - val_loss: 3.5589 - val_accuracy: 0.4506\n",
      "Epoch 17/20\n",
      "50/50 [==============================] - 1s 10ms/step - loss: 0.0897 - accuracy: 0.9684 - val_loss: 3.7121 - val_accuracy: 0.4530\n",
      "Epoch 18/20\n",
      "50/50 [==============================] - 1s 10ms/step - loss: 0.0840 - accuracy: 0.9724 - val_loss: 3.7068 - val_accuracy: 0.4583\n",
      "Epoch 19/20\n",
      "50/50 [==============================] - 1s 10ms/step - loss: 0.0780 - accuracy: 0.9721 - val_loss: 3.8003 - val_accuracy: 0.4552\n",
      "Epoch 20/20\n",
      "50/50 [==============================] - 1s 10ms/step - loss: 0.0729 - accuracy: 0.9751 - val_loss: 4.1745 - val_accuracy: 0.4588\n"
     ]
    }
   ],
   "source": [
    "model_02.compile(optimizer=\"rmsprop\",\n",
    "    loss=\"sparse_categorical_crossentropy\",\n",
    "    metrics=[\"accuracy\"])\n",
    "history2=model_02.fit(x_data3, y_data, epochs=20,batch_size=512,validation_split=0.2)"
   ]
  },
  {
   "cell_type": "code",
   "execution_count": 81,
   "metadata": {
    "execution": {
     "iopub.execute_input": "2021-08-13T00:44:58.506134Z",
     "iopub.status.busy": "2021-08-13T00:44:58.505580Z",
     "iopub.status.idle": "2021-08-13T00:44:59.054128Z",
     "shell.execute_reply": "2021-08-13T00:44:59.053205Z",
     "shell.execute_reply.started": "2021-08-13T00:44:58.506075Z"
    }
   },
   "outputs": [
    {
     "data": {
      "image/png": "[encoded data removed]",
      "text/plain": [
       "<Figure size 432x288 with 1 Axes>"
      ]
     },
     "metadata": {
      "needs_background": "light"
     },
     "output_type": "display_data"
    },
    {
     "data": {
      "image/png": "[encoded data removed]",
      "text/plain": [
       "<Figure size 432x288 with 1 Axes>"
      ]
     },
     "metadata": {
      "needs_background": "light"
     },
     "output_type": "display_data"
    }
   ],
   "source": [
    "plotacc(history2)"
   ]
  },
  {
   "cell_type": "markdown",
   "metadata": {},
   "source": [
    "**Summary2:**  \n",
    "1. In model we tried to use CNN to get a better score.  \n",
    "2. We noticed that maybe there still exist overfitting because the gap between validation acc and training acc still big.  \n",
    "3. The vaildation acc was still low."
   ]
  },
  {
   "cell_type": "markdown",
   "metadata": {},
   "source": [
    "### Model 3 date 2021/08/07"
   ]
  },
  {
   "cell_type": "code",
   "execution_count": 90,
   "metadata": {
    "execution": {
     "iopub.execute_input": "2021-08-13T00:50:56.410783Z",
     "iopub.status.busy": "2021-08-13T00:50:56.410421Z",
     "iopub.status.idle": "2021-08-13T00:50:56.483570Z",
     "shell.execute_reply": "2021-08-13T00:50:56.482374Z",
     "shell.execute_reply.started": "2021-08-13T00:50:56.410752Z"
    }
   },
   "outputs": [
    {
     "name": "stdout",
     "output_type": "stream",
     "text": [
      "Model: \"sequential_18\"\n",
      "_________________________________________________________________\n",
      "Layer (type)                 Output Shape              Param #   \n",
      "=================================================================\n",
      "conv2d_10 (Conv2D)           (None, 26, 54, 32)        320       \n",
      "_________________________________________________________________\n",
      "max_pooling2d_10 (MaxPooling (None, 13, 27, 32)        0         \n",
      "_________________________________________________________________\n",
      "dropout_17 (Dropout)         (None, 13, 27, 32)        0         \n",
      "_________________________________________________________________\n",
      "conv2d_11 (Conv2D)           (None, 11, 25, 64)        18496     \n",
      "_________________________________________________________________\n",
      "max_pooling2d_11 (MaxPooling (None, 5, 12, 64)         0         \n",
      "_________________________________________________________________\n",
      "dropout_18 (Dropout)         (None, 5, 12, 64)         0         \n",
      "_________________________________________________________________\n",
      "flatten_7 (Flatten)          (None, 3840)              0         \n",
      "_________________________________________________________________\n",
      "dense_47 (Dense)             (None, 128)               491648    \n",
      "_________________________________________________________________\n",
      "dropout_19 (Dropout)         (None, 128)               0         \n",
      "_________________________________________________________________\n",
      "dense_48 (Dense)             (None, 10)                1290      \n",
      "=================================================================\n",
      "Total params: 511,754\n",
      "Trainable params: 511,754\n",
      "Non-trainable params: 0\n",
      "_________________________________________________________________\n"
     ]
    }
   ],
   "source": [
    "#model 03 CNN date 2021/08/07\n",
    "model_03 = keras.Sequential([\n",
    "    layers.Conv2D(filters=32, kernel_size=3, activation='relu',kernel_regularizer=regularizers.l2(0.002)),\n",
    "    layers.MaxPool2D(),\n",
    "    layers.Dropout(0.2),\n",
    "    layers.Conv2D(filters=64, kernel_size=3, activation='relu',kernel_regularizer=regularizers.l2(0.002)),\n",
    "    layers.MaxPool2D(),\n",
    "    layers.Dropout(0.2),\n",
    "    layers.Flatten(),\n",
    "    layers.Dense(128, activation=\"relu\",kernel_regularizer=regularizers.l2(0.002)),\n",
    "    layers.Dropout(0.2),\n",
    "    layers.Dense(10, activation=\"sigmoid\")\n",
    "])\n",
    "model_03.build(input_shape=(None,28,56,1))\n",
    "model_03.summary()"
   ]
  },
  {
   "cell_type": "code",
   "execution_count": 91,
   "metadata": {
    "execution": {
     "iopub.execute_input": "2021-08-13T00:50:57.402513Z",
     "iopub.status.busy": "2021-08-13T00:50:57.402158Z",
     "iopub.status.idle": "2021-08-13T00:51:24.074622Z",
     "shell.execute_reply": "2021-08-13T00:51:24.073758Z",
     "shell.execute_reply.started": "2021-08-13T00:50:57.402480Z"
    }
   },
   "outputs": [
    {
     "name": "stdout",
     "output_type": "stream",
     "text": [
      "Epoch 1/40\n",
      "25/25 [==============================] - 1s 33ms/step - loss: 70.6160 - accuracy: 0.1983 - val_loss: 2.8187 - val_accuracy: 0.2259\n",
      "Epoch 2/40\n",
      "25/25 [==============================] - 1s 25ms/step - loss: 2.5487 - accuracy: 0.3596 - val_loss: 2.6305 - val_accuracy: 0.2995\n",
      "Epoch 3/40\n",
      "25/25 [==============================] - 1s 27ms/step - loss: 1.9774 - accuracy: 0.5161 - val_loss: 2.5390 - val_accuracy: 0.3570\n",
      "Epoch 4/40\n",
      "25/25 [==============================] - 1s 29ms/step - loss: 1.5302 - accuracy: 0.6547 - val_loss: 2.4500 - val_accuracy: 0.3948\n",
      "Epoch 5/40\n",
      "25/25 [==============================] - 1s 29ms/step - loss: 1.2411 - accuracy: 0.7375 - val_loss: 2.4107 - val_accuracy: 0.4130\n",
      "Epoch 6/40\n",
      "25/25 [==============================] - 1s 26ms/step - loss: 1.0297 - accuracy: 0.7884 - val_loss: 2.2711 - val_accuracy: 0.4392\n",
      "Epoch 7/40\n",
      "25/25 [==============================] - 1s 25ms/step - loss: 0.7836 - accuracy: 0.8415 - val_loss: 2.1345 - val_accuracy: 0.4456\n",
      "Epoch 8/40\n",
      "25/25 [==============================] - 1s 26ms/step - loss: 0.6436 - accuracy: 0.8705 - val_loss: 2.1230 - val_accuracy: 0.4686\n",
      "Epoch 9/40\n",
      "25/25 [==============================] - 1s 25ms/step - loss: 0.5467 - accuracy: 0.8910 - val_loss: 2.1028 - val_accuracy: 0.4753\n",
      "Epoch 10/40\n",
      "25/25 [==============================] - 1s 25ms/step - loss: 0.4644 - accuracy: 0.9144 - val_loss: 2.1278 - val_accuracy: 0.4805\n",
      "Epoch 11/40\n",
      "25/25 [==============================] - 1s 25ms/step - loss: 0.4293 - accuracy: 0.9204 - val_loss: 2.0932 - val_accuracy: 0.4727\n",
      "Epoch 12/40\n",
      "25/25 [==============================] - 1s 26ms/step - loss: 0.4293 - accuracy: 0.9185 - val_loss: 2.1132 - val_accuracy: 0.4922\n",
      "Epoch 13/40\n",
      "25/25 [==============================] - 1s 25ms/step - loss: 0.3481 - accuracy: 0.9403 - val_loss: 2.0875 - val_accuracy: 0.4964\n",
      "Epoch 14/40\n",
      "25/25 [==============================] - 1s 25ms/step - loss: 0.3263 - accuracy: 0.9453 - val_loss: 2.2444 - val_accuracy: 0.4837\n",
      "Epoch 15/40\n",
      "25/25 [==============================] - 1s 25ms/step - loss: 0.3264 - accuracy: 0.9439 - val_loss: 2.0843 - val_accuracy: 0.4939\n",
      "Epoch 16/40\n",
      "25/25 [==============================] - 1s 25ms/step - loss: 0.2879 - accuracy: 0.9544 - val_loss: 2.1793 - val_accuracy: 0.4927\n",
      "Epoch 17/40\n",
      "25/25 [==============================] - 1s 25ms/step - loss: 0.2825 - accuracy: 0.9542 - val_loss: 2.1866 - val_accuracy: 0.4875\n",
      "Epoch 18/40\n",
      "25/25 [==============================] - 1s 25ms/step - loss: 0.2929 - accuracy: 0.9499 - val_loss: 2.1252 - val_accuracy: 0.5011\n",
      "Epoch 19/40\n",
      "25/25 [==============================] - 1s 26ms/step - loss: 0.2870 - accuracy: 0.9551 - val_loss: 2.2995 - val_accuracy: 0.5027\n",
      "Epoch 20/40\n",
      "25/25 [==============================] - 1s 25ms/step - loss: 0.2582 - accuracy: 0.9597 - val_loss: 2.2352 - val_accuracy: 0.5075\n",
      "Epoch 21/40\n",
      "25/25 [==============================] - 1s 25ms/step - loss: 0.2471 - accuracy: 0.9619 - val_loss: 2.2117 - val_accuracy: 0.5027\n",
      "Epoch 22/40\n",
      "25/25 [==============================] - 1s 27ms/step - loss: 0.2677 - accuracy: 0.9558 - val_loss: 2.2367 - val_accuracy: 0.5102\n",
      "Epoch 23/40\n",
      "25/25 [==============================] - 1s 26ms/step - loss: 0.2387 - accuracy: 0.9620 - val_loss: 2.2331 - val_accuracy: 0.5159\n",
      "Epoch 24/40\n",
      "25/25 [==============================] - 1s 25ms/step - loss: 0.2118 - accuracy: 0.9711 - val_loss: 2.2094 - val_accuracy: 0.5161\n",
      "Epoch 25/40\n",
      "25/25 [==============================] - 1s 25ms/step - loss: 0.2306 - accuracy: 0.9636 - val_loss: 2.2778 - val_accuracy: 0.5069\n",
      "Epoch 26/40\n",
      "25/25 [==============================] - 1s 25ms/step - loss: 0.2103 - accuracy: 0.9705 - val_loss: 2.2505 - val_accuracy: 0.5063\n",
      "Epoch 27/40\n",
      "25/25 [==============================] - 1s 25ms/step - loss: 0.2091 - accuracy: 0.9696 - val_loss: 2.2932 - val_accuracy: 0.5033\n",
      "Epoch 28/40\n",
      "25/25 [==============================] - 1s 25ms/step - loss: 0.2257 - accuracy: 0.9650 - val_loss: 2.1339 - val_accuracy: 0.5114\n",
      "Epoch 29/40\n",
      "25/25 [==============================] - 1s 25ms/step - loss: 0.1988 - accuracy: 0.9714 - val_loss: 2.2485 - val_accuracy: 0.5056\n",
      "Epoch 30/40\n",
      "25/25 [==============================] - 1s 25ms/step - loss: 0.1907 - accuracy: 0.9740 - val_loss: 2.2672 - val_accuracy: 0.5105\n",
      "Epoch 31/40\n",
      "25/25 [==============================] - 1s 25ms/step - loss: 0.1860 - accuracy: 0.9757 - val_loss: 2.2605 - val_accuracy: 0.5106\n",
      "Epoch 32/40\n",
      "25/25 [==============================] - 1s 25ms/step - loss: 0.1955 - accuracy: 0.9720 - val_loss: 2.2556 - val_accuracy: 0.5083\n",
      "Epoch 33/40\n",
      "25/25 [==============================] - 1s 25ms/step - loss: 0.1841 - accuracy: 0.9731 - val_loss: 2.1288 - val_accuracy: 0.5163\n",
      "Epoch 34/40\n",
      "25/25 [==============================] - 1s 24ms/step - loss: 0.1727 - accuracy: 0.9779 - val_loss: 2.2922 - val_accuracy: 0.5094\n",
      "Epoch 35/40\n",
      "25/25 [==============================] - 1s 25ms/step - loss: 0.1815 - accuracy: 0.9772 - val_loss: 2.2279 - val_accuracy: 0.5134\n",
      "Epoch 36/40\n",
      "25/25 [==============================] - 1s 25ms/step - loss: 0.1761 - accuracy: 0.9764 - val_loss: 2.1869 - val_accuracy: 0.5098\n",
      "Epoch 37/40\n",
      "25/25 [==============================] - 1s 24ms/step - loss: 0.1776 - accuracy: 0.9762 - val_loss: 2.3684 - val_accuracy: 0.5027\n",
      "Epoch 38/40\n",
      "25/25 [==============================] - 1s 25ms/step - loss: 0.1726 - accuracy: 0.9761 - val_loss: 2.5724 - val_accuracy: 0.4948\n",
      "Epoch 39/40\n",
      "25/25 [==============================] - 1s 25ms/step - loss: 0.1876 - accuracy: 0.9701 - val_loss: 2.3654 - val_accuracy: 0.5069\n",
      "Epoch 40/40\n",
      "25/25 [==============================] - 1s 27ms/step - loss: 0.1712 - accuracy: 0.9771 - val_loss: 1.9289 - val_accuracy: 0.5116\n"
     ]
    }
   ],
   "source": [
    "callbacks_list = [\n",
    "    keras.callbacks.EarlyStopping(\n",
    "        monitor=\"accuracy\",\n",
    "        patience=4,\n",
    "    ),\n",
    "    keras.callbacks.ModelCheckpoint(\n",
    "        filepath=\"checkpoint_path.keras\",\n",
    "        monitor=\"val_loss\",\n",
    "        save_best_only=True,\n",
    "    )]\n",
    "model_03.compile(optimizer=\"rmsprop\",\n",
    "    loss=\"sparse_categorical_crossentropy\",\n",
    "    metrics=[\"accuracy\"])\n",
    "history3=model_03.fit(x_data3, y_data, epochs=40,callbacks=callbacks_list, batch_size=1024,validation_split=0.2)"
   ]
  },
  {
   "cell_type": "code",
   "execution_count": 92,
   "metadata": {
    "execution": {
     "iopub.execute_input": "2021-08-13T00:51:43.619393Z",
     "iopub.status.busy": "2021-08-13T00:51:43.619044Z",
     "iopub.status.idle": "2021-08-13T00:51:43.931138Z",
     "shell.execute_reply": "2021-08-13T00:51:43.930181Z",
     "shell.execute_reply.started": "2021-08-13T00:51:43.619359Z"
    }
   },
   "outputs": [
    {
     "data": {
      "image/png": "[encoded data removed]",
      "text/plain": [
       "<Figure size 432x288 with 1 Axes>"
      ]
     },
     "metadata": {
      "needs_background": "light"
     },
     "output_type": "display_data"
    },
    {
     "data": {
      "image/png": "[encoded data removed]",
      "text/plain": [
       "<Figure size 432x288 with 1 Axes>"
      ]
     },
     "metadata": {
      "needs_background": "light"
     },
     "output_type": "display_data"
    }
   ],
   "source": [
    "plotacc(history3)"
   ]
  },
  {
   "cell_type": "markdown",
   "metadata": {},
   "source": [
    "**Summary3:**  \n",
    "The drawback of model_03 was almost the same as model_02,  \n",
    "But the improvement we made is add a callbacks_list to use early stopping.  \n",
    "In addition,we also tried to use transfer learning but the acc was too low."
   ]
  },
  {
   "cell_type": "markdown",
   "metadata": {},
   "source": [
    "### Model 4 date 2021/08/07"
   ]
  },
  {
   "cell_type": "code",
   "execution_count": 100,
   "metadata": {
    "execution": {
     "iopub.execute_input": "2021-08-13T01:01:55.562388Z",
     "iopub.status.busy": "2021-08-13T01:01:55.562050Z",
     "iopub.status.idle": "2021-08-13T01:01:55.628253Z",
     "shell.execute_reply": "2021-08-13T01:01:55.626970Z",
     "shell.execute_reply.started": "2021-08-13T01:01:55.562356Z"
    }
   },
   "outputs": [
    {
     "name": "stdout",
     "output_type": "stream",
     "text": [
      "Model: \"sequential_22\"\n",
      "_________________________________________________________________\n",
      "Layer (type)                 Output Shape              Param #   \n",
      "=================================================================\n",
      "conv2d_18 (Conv2D)           (None, 26, 54, 32)        320       \n",
      "_________________________________________________________________\n",
      "max_pooling2d_18 (MaxPooling (None, 13, 27, 32)        0         \n",
      "_________________________________________________________________\n",
      "dropout_29 (Dropout)         (None, 13, 27, 32)        0         \n",
      "_________________________________________________________________\n",
      "conv2d_19 (Conv2D)           (None, 11, 25, 64)        18496     \n",
      "_________________________________________________________________\n",
      "max_pooling2d_19 (MaxPooling (None, 5, 12, 64)         0         \n",
      "_________________________________________________________________\n",
      "dropout_30 (Dropout)         (None, 5, 12, 64)         0         \n",
      "_________________________________________________________________\n",
      "flatten_11 (Flatten)         (None, 3840)              0         \n",
      "_________________________________________________________________\n",
      "dense_55 (Dense)             (None, 128)               491648    \n",
      "_________________________________________________________________\n",
      "dropout_31 (Dropout)         (None, 128)               0         \n",
      "_________________________________________________________________\n",
      "dense_56 (Dense)             (None, 10)                1290      \n",
      "=================================================================\n",
      "Total params: 511,754\n",
      "Trainable params: 511,754\n",
      "Non-trainable params: 0\n",
      "_________________________________________________________________\n"
     ]
    }
   ],
   "source": [
    "#model 04 CNN date 2021/08/07\n",
    "model_04 = keras.Sequential([\n",
    "    layers.Conv2D(filters=32, kernel_size=3, activation='relu'),\n",
    "    layers.MaxPool2D(),\n",
    "    layers.Dropout(0.2),\n",
    "    layers.Conv2D(filters=64, kernel_size=3, activation='relu'),\n",
    "    layers.MaxPool2D(),\n",
    "    layers.Dropout(0.2),\n",
    "    layers.Flatten(),\n",
    "    layers.Dense(128, activation=\"relu\",kernel_regularizer=regularizers.l2(0.002)),\n",
    "    layers.Dropout(0.2),\n",
    "    layers.Dense(10, activation=\"softmax\")\n",
    "])\n",
    "model_04.build(input_shape=(None,28,56,1))\n",
    "model_04.summary()"
   ]
  },
  {
   "cell_type": "code",
   "execution_count": 101,
   "metadata": {
    "execution": {
     "iopub.execute_input": "2021-08-13T01:01:55.985997Z",
     "iopub.status.busy": "2021-08-13T01:01:55.985673Z",
     "iopub.status.idle": "2021-08-13T01:02:25.502566Z",
     "shell.execute_reply": "2021-08-13T01:02:25.501687Z",
     "shell.execute_reply.started": "2021-08-13T01:01:55.985966Z"
    }
   },
   "outputs": [
    {
     "name": "stdout",
     "output_type": "stream",
     "text": [
      "Epoch 1/40\n",
      "50/50 [==============================] - 2s 25ms/step - loss: 38.3659 - accuracy: 0.2370 - val_loss: 2.4889 - val_accuracy: 0.3205\n",
      "Epoch 2/40\n",
      "50/50 [==============================] - 1s 14ms/step - loss: 1.6604 - accuracy: 0.5858 - val_loss: 2.3548 - val_accuracy: 0.3839\n",
      "Epoch 3/40\n",
      "50/50 [==============================] - 1s 14ms/step - loss: 1.1288 - accuracy: 0.7500 - val_loss: 2.1847 - val_accuracy: 0.4278\n",
      "Epoch 4/40\n",
      "50/50 [==============================] - 1s 14ms/step - loss: 0.7548 - accuracy: 0.8299 - val_loss: 2.1261 - val_accuracy: 0.4450\n",
      "Epoch 5/40\n",
      "50/50 [==============================] - 1s 14ms/step - loss: 0.5635 - accuracy: 0.8719 - val_loss: 2.0792 - val_accuracy: 0.4663\n",
      "Epoch 6/40\n",
      "50/50 [==============================] - 1s 15ms/step - loss: 0.4696 - accuracy: 0.8952 - val_loss: 2.1154 - val_accuracy: 0.4608\n",
      "Epoch 7/40\n",
      "50/50 [==============================] - 1s 14ms/step - loss: 0.3951 - accuracy: 0.9190 - val_loss: 2.0721 - val_accuracy: 0.4773\n",
      "Epoch 8/40\n",
      "50/50 [==============================] - 1s 14ms/step - loss: 0.3507 - accuracy: 0.9275 - val_loss: 2.0771 - val_accuracy: 0.4792\n",
      "Epoch 9/40\n",
      "50/50 [==============================] - 1s 14ms/step - loss: 0.3038 - accuracy: 0.9412 - val_loss: 2.1613 - val_accuracy: 0.4892\n",
      "Epoch 10/40\n",
      "50/50 [==============================] - 1s 14ms/step - loss: 0.2845 - accuracy: 0.9466 - val_loss: 2.1818 - val_accuracy: 0.4908\n",
      "Epoch 11/40\n",
      "50/50 [==============================] - 1s 14ms/step - loss: 0.2693 - accuracy: 0.9516 - val_loss: 2.3157 - val_accuracy: 0.4964\n",
      "Epoch 12/40\n",
      "50/50 [==============================] - 1s 14ms/step - loss: 0.2577 - accuracy: 0.9550 - val_loss: 2.3836 - val_accuracy: 0.4798\n",
      "Epoch 13/40\n",
      "50/50 [==============================] - 1s 14ms/step - loss: 0.2398 - accuracy: 0.9578 - val_loss: 2.1998 - val_accuracy: 0.4986\n",
      "Epoch 14/40\n",
      "50/50 [==============================] - 1s 14ms/step - loss: 0.2277 - accuracy: 0.9620 - val_loss: 2.3057 - val_accuracy: 0.5073\n",
      "Epoch 15/40\n",
      "50/50 [==============================] - 1s 14ms/step - loss: 0.2145 - accuracy: 0.9648 - val_loss: 2.3249 - val_accuracy: 0.5038\n",
      "Epoch 16/40\n",
      "50/50 [==============================] - 1s 14ms/step - loss: 0.2118 - accuracy: 0.9643 - val_loss: 2.2748 - val_accuracy: 0.5103\n",
      "Epoch 17/40\n",
      "50/50 [==============================] - 1s 14ms/step - loss: 0.1998 - accuracy: 0.9678 - val_loss: 2.2822 - val_accuracy: 0.5008\n",
      "Epoch 18/40\n",
      "50/50 [==============================] - 1s 14ms/step - loss: 0.1904 - accuracy: 0.9692 - val_loss: 2.3228 - val_accuracy: 0.5142\n",
      "Epoch 19/40\n",
      "50/50 [==============================] - 1s 14ms/step - loss: 0.1827 - accuracy: 0.9718 - val_loss: 2.3860 - val_accuracy: 0.5056\n",
      "Epoch 20/40\n",
      "50/50 [==============================] - 1s 14ms/step - loss: 0.1887 - accuracy: 0.9687 - val_loss: 2.3041 - val_accuracy: 0.5177\n",
      "Epoch 21/40\n",
      "50/50 [==============================] - 1s 14ms/step - loss: 0.1813 - accuracy: 0.9717 - val_loss: 2.3519 - val_accuracy: 0.5120\n",
      "Epoch 22/40\n",
      "50/50 [==============================] - 1s 15ms/step - loss: 0.1748 - accuracy: 0.9726 - val_loss: 2.3152 - val_accuracy: 0.5103\n",
      "Epoch 23/40\n",
      "50/50 [==============================] - 1s 16ms/step - loss: 0.1709 - accuracy: 0.9721 - val_loss: 2.2321 - val_accuracy: 0.5164\n",
      "Epoch 24/40\n",
      "50/50 [==============================] - 1s 15ms/step - loss: 0.1664 - accuracy: 0.9755 - val_loss: 2.3932 - val_accuracy: 0.5148\n",
      "Epoch 25/40\n",
      "50/50 [==============================] - 1s 14ms/step - loss: 0.1718 - accuracy: 0.9726 - val_loss: 2.3223 - val_accuracy: 0.5159\n",
      "Epoch 26/40\n",
      "50/50 [==============================] - 1s 14ms/step - loss: 0.1646 - accuracy: 0.9746 - val_loss: 2.3052 - val_accuracy: 0.5167\n",
      "Epoch 27/40\n",
      "50/50 [==============================] - 1s 14ms/step - loss: 0.1637 - accuracy: 0.9739 - val_loss: 2.3519 - val_accuracy: 0.5220\n",
      "Epoch 28/40\n",
      "50/50 [==============================] - 1s 14ms/step - loss: 0.1576 - accuracy: 0.9754 - val_loss: 2.4223 - val_accuracy: 0.5150\n",
      "Epoch 29/40\n",
      "50/50 [==============================] - 1s 14ms/step - loss: 0.1659 - accuracy: 0.9726 - val_loss: 2.3498 - val_accuracy: 0.5200\n",
      "Epoch 30/40\n",
      "50/50 [==============================] - 1s 14ms/step - loss: 0.1584 - accuracy: 0.9744 - val_loss: 2.4288 - val_accuracy: 0.5173\n",
      "Epoch 31/40\n",
      "50/50 [==============================] - 1s 13ms/step - loss: 0.1515 - accuracy: 0.9759 - val_loss: 2.5254 - val_accuracy: 0.5111\n",
      "Epoch 32/40\n",
      "50/50 [==============================] - 1s 14ms/step - loss: 0.1521 - accuracy: 0.9771 - val_loss: 2.4230 - val_accuracy: 0.5213\n",
      "Epoch 33/40\n",
      "50/50 [==============================] - 1s 13ms/step - loss: 0.1544 - accuracy: 0.9753 - val_loss: 2.5072 - val_accuracy: 0.5105\n",
      "Epoch 34/40\n",
      "50/50 [==============================] - 1s 13ms/step - loss: 0.1545 - accuracy: 0.9754 - val_loss: 2.3063 - val_accuracy: 0.5220\n",
      "Epoch 35/40\n",
      "50/50 [==============================] - 1s 13ms/step - loss: 0.1454 - accuracy: 0.9780 - val_loss: 2.3732 - val_accuracy: 0.5239\n",
      "Epoch 36/40\n",
      "50/50 [==============================] - 1s 14ms/step - loss: 0.1514 - accuracy: 0.9758 - val_loss: 2.4625 - val_accuracy: 0.5200\n",
      "Epoch 37/40\n",
      "50/50 [==============================] - 1s 14ms/step - loss: 0.1469 - accuracy: 0.9783 - val_loss: 2.4772 - val_accuracy: 0.5209\n",
      "Epoch 38/40\n",
      "50/50 [==============================] - 1s 15ms/step - loss: 0.1499 - accuracy: 0.9764 - val_loss: 2.2830 - val_accuracy: 0.5317\n",
      "Epoch 39/40\n",
      "50/50 [==============================] - 1s 13ms/step - loss: 0.1428 - accuracy: 0.9792 - val_loss: 2.3273 - val_accuracy: 0.5234\n",
      "Epoch 40/40\n",
      "50/50 [==============================] - 1s 13ms/step - loss: 0.1338 - accuracy: 0.9817 - val_loss: 2.3702 - val_accuracy: 0.5286\n"
     ]
    }
   ],
   "source": [
    "tensorboard = keras.callbacks.TensorBoard(\n",
    "    log_dir=\"/content\",\n",
    ")\n",
    "callbacks_list = [\n",
    "    keras.callbacks.EarlyStopping(\n",
    "        monitor=\"accuracy\",\n",
    "        patience=4,\n",
    "    ),\n",
    "    keras.callbacks.ModelCheckpoint(\n",
    "        filepath=\"checkpoint_path.keras\",\n",
    "        monitor=\"val_loss\",\n",
    "        save_best_only=True,\n",
    "    )\n",
    "]\n",
    "model_04.compile(optimizer=\"rmsprop\",\n",
    "    loss=\"sparse_categorical_crossentropy\",\n",
    "    metrics=[\"accuracy\"])\n",
    "history4=model_04.fit(x_data3, y_data, epochs=40,callbacks=[tensorboard], batch_size=512,validation_split=0.2)"
   ]
  },
  {
   "cell_type": "code",
   "execution_count": 102,
   "metadata": {
    "execution": {
     "iopub.execute_input": "2021-08-13T01:02:25.504820Z",
     "iopub.status.busy": "2021-08-13T01:02:25.504445Z",
     "iopub.status.idle": "2021-08-13T01:02:25.818483Z",
     "shell.execute_reply": "2021-08-13T01:02:25.817674Z",
     "shell.execute_reply.started": "2021-08-13T01:02:25.504779Z"
    }
   },
   "outputs": [
    {
     "data": {
      "image/png": "[encoded data removed]",
      "text/plain": [
       "<Figure size 432x288 with 1 Axes>"
      ]
     },
     "metadata": {
      "needs_background": "light"
     },
     "output_type": "display_data"
    },
    {
     "data": {
      "image/png": "[encoded data removed]",
      "text/plain": [
       "<Figure size 432x288 with 1 Axes>"
      ]
     },
     "metadata": {
      "needs_background": "light"
     },
     "output_type": "display_data"
    }
   ],
   "source": [
    "plotacc(history4)"
   ]
  },
  {
   "cell_type": "markdown",
   "metadata": {},
   "source": [
    "**Summary4**  \n",
    "In model_04 we change the activation of the output layers from sigmod to softmax.  \n",
    "But the val_acc still low.  \n",
    "Maybe we can tried to use data augmentation to improve the val_acc."
   ]
  },
  {
   "cell_type": "markdown",
   "metadata": {},
   "source": [
    "### Model 5 date 2021/08/07"
   ]
  },
  {
   "cell_type": "code",
   "execution_count": 109,
   "metadata": {
    "execution": {
     "iopub.execute_input": "2021-08-13T01:09:46.771824Z",
     "iopub.status.busy": "2021-08-13T01:09:46.771436Z",
     "iopub.status.idle": "2021-08-13T01:09:46.949650Z",
     "shell.execute_reply": "2021-08-13T01:09:46.947891Z",
     "shell.execute_reply.started": "2021-08-13T01:09:46.771787Z"
    },
    "id": "V99KGTn1pxUy"
   },
   "outputs": [
    {
     "name": "stdout",
     "output_type": "stream",
     "text": [
      "Model: \"sequential_28\"\n",
      "_________________________________________________________________\n",
      "Layer (type)                 Output Shape              Param #   \n",
      "=================================================================\n",
      "sequential_27 (Sequential)   (None, 28, 56, 1)         0         \n",
      "_________________________________________________________________\n",
      "conv2d_26 (Conv2D)           (None, 26, 54, 32)        320       \n",
      "_________________________________________________________________\n",
      "max_pooling2d_26 (MaxPooling (None, 13, 27, 32)        0         \n",
      "_________________________________________________________________\n",
      "dropout_40 (Dropout)         (None, 13, 27, 32)        0         \n",
      "_________________________________________________________________\n",
      "conv2d_27 (Conv2D)           (None, 11, 25, 64)        18496     \n",
      "_________________________________________________________________\n",
      "max_pooling2d_27 (MaxPooling (None, 5, 12, 64)         0         \n",
      "_________________________________________________________________\n",
      "dropout_41 (Dropout)         (None, 5, 12, 64)         0         \n",
      "_________________________________________________________________\n",
      "conv2d_28 (Conv2D)           (None, 3, 10, 256)        147712    \n",
      "_________________________________________________________________\n",
      "max_pooling2d_28 (MaxPooling (None, 1, 5, 256)         0         \n",
      "_________________________________________________________________\n",
      "dropout_42 (Dropout)         (None, 1, 5, 256)         0         \n",
      "_________________________________________________________________\n",
      "flatten_14 (Flatten)         (None, 1280)              0         \n",
      "_________________________________________________________________\n",
      "dense_61 (Dense)             (None, 256)               327936    \n",
      "_________________________________________________________________\n",
      "dropout_43 (Dropout)         (None, 256)               0         \n",
      "_________________________________________________________________\n",
      "dense_62 (Dense)             (None, 10)                2570      \n",
      "=================================================================\n",
      "Total params: 497,034\n",
      "Trainable params: 497,034\n",
      "Non-trainable params: 0\n",
      "_________________________________________________________________\n"
     ]
    }
   ],
   "source": [
    "#model 05 date 2021/08/07\n",
    "data_augmentation = keras.Sequential(\n",
    "  [\n",
    "    layers.experimental.preprocessing.RandomRotation(0.1),\n",
    "    layers.experimental.preprocessing.Rescaling(1./255)\n",
    "  ]\n",
    ")\n",
    "model_05 = keras.Sequent### Model 3 date 2021/08/07ial([\n",
    "    data_augmentation,\n",
    "    layers.Conv2D(filters=32, kernel_size=3, activation='relu'),\n",
    "    layers.MaxPool2D(),\n",
    "    layers.Dropout(0.2),\n",
    "    layers.Conv2D(filters=64, kernel_size=3, activation='relu'),\n",
    "    layers.MaxPool2D(),\n",
    "    layers.Dropout(0.2),\n",
    "    layers.Conv2D(filters=256, kernel_size=3, activation='relu'),\n",
    "    layers.MaxPool2D(),\n",
    "    layers.Dropout(0.2),\n",
    "    layers.Flatten(),\n",
    "    layers.Dense(256, activation=\"relu\"),\n",
    "    layers.Dropout(0.2),\n",
    "    layers.Dense(10, activation=\"softmax\")\n",
    "])\n",
    "\n",
    "model_05.build(input_shape=(None,28,56,1))\n",
    "model_05.summary()\n"
   ]
  },
  {
   "cell_type": "code",
   "execution_count": 110,
   "metadata": {
    "execution": {
     "iopub.execute_input": "2021-08-13T01:09:47.910763Z",
     "iopub.status.busy": "2021-08-13T01:09:47.910377Z",
     "iopub.status.idle": "2021-08-13T01:10:24.649150Z",
     "shell.execute_reply": "2021-08-13T01:10:24.648349Z",
     "shell.execute_reply.started": "2021-08-13T01:09:47.910730Z"
    }
   },
   "outputs": [
    {
     "name": "stdout",
     "output_type": "stream",
     "text": [
      "Epoch 1/40\n",
      "50/50 [==============================] - 2s 30ms/step - loss: 2.0923 - accuracy: 0.2053 - val_loss: 1.8403 - val_accuracy: 0.3336\n",
      "Epoch 2/40\n",
      "50/50 [==============================] - 1s 17ms/step - loss: 1.6851 - accuracy: 0.3816 - val_loss: 1.4356 - val_accuracy: 0.4884\n",
      "Epoch 3/40\n",
      "50/50 [==============================] - 1s 17ms/step - loss: 1.3596 - accuracy: 0.5151 - val_loss: 1.1924 - val_accuracy: 0.5809\n",
      "Epoch 4/40\n",
      "50/50 [==============================] - 1s 17ms/step - loss: 1.1436 - accuracy: 0.5980 - val_loss: 1.1992 - val_accuracy: 0.5716\n",
      "Epoch 5/40\n",
      "50/50 [==============================] - 1s 17ms/step - loss: 0.9952 - accuracy: 0.6504 - val_loss: 0.8971 - val_accuracy: 0.7000\n",
      "Epoch 6/40\n",
      "50/50 [==============================] - 1s 19ms/step - loss: 0.8473 - accuracy: 0.7050 - val_loss: 0.7996 - val_accuracy: 0.7358\n",
      "Epoch 7/40\n",
      "50/50 [==============================] - 1s 17ms/step - loss: 0.7524 - accuracy: 0.7389 - val_loss: 0.7877 - val_accuracy: 0.7258\n",
      "Epoch 8/40\n",
      "50/50 [==============================] - 1s 17ms/step - loss: 0.6750 - accuracy: 0.7714 - val_loss: 0.6631 - val_accuracy: 0.7783\n",
      "Epoch 9/40\n",
      "50/50 [==============================] - 1s 17ms/step - loss: 0.5994 - accuracy: 0.7931 - val_loss: 0.6250 - val_accuracy: 0.7905\n",
      "Epoch 10/40\n",
      "50/50 [==============================] - 1s 17ms/step - loss: 0.5570 - accuracy: 0.8119 - val_loss: 0.5616 - val_accuracy: 0.8114\n",
      "Epoch 11/40\n",
      "50/50 [==============================] - 1s 17ms/step - loss: 0.5024 - accuracy: 0.8289 - val_loss: 0.5197 - val_accuracy: 0.8270\n",
      "Epoch 12/40\n",
      "50/50 [==============================] - 1s 17ms/step - loss: 0.4624 - accuracy: 0.8445 - val_loss: 0.5066 - val_accuracy: 0.8313\n",
      "Epoch 13/40\n",
      "50/50 [==============================] - 1s 17ms/step - loss: 0.4473 - accuracy: 0.8520 - val_loss: 0.4653 - val_accuracy: 0.8416\n",
      "Epoch 14/40\n",
      "50/50 [==============================] - 1s 17ms/step - loss: 0.4175 - accuracy: 0.8590 - val_loss: 0.4311 - val_accuracy: 0.8567\n",
      "Epoch 15/40\n",
      "50/50 [==============================] - 1s 17ms/step - loss: 0.3861 - accuracy: 0.8684 - val_loss: 0.4668 - val_accuracy: 0.8447\n",
      "Epoch 16/40\n",
      "50/50 [==============================] - 1s 17ms/step - loss: 0.3861 - accuracy: 0.8699 - val_loss: 0.4135 - val_accuracy: 0.8617\n",
      "Epoch 17/40\n",
      "50/50 [==============================] - 1s 17ms/step - loss: 0.3512 - accuracy: 0.8837 - val_loss: 0.3904 - val_accuracy: 0.8702\n",
      "Epoch 18/40\n",
      "50/50 [==============================] - 1s 17ms/step - loss: 0.3338 - accuracy: 0.8879 - val_loss: 0.3644 - val_accuracy: 0.8759\n",
      "Epoch 19/40\n",
      "50/50 [==============================] - 1s 18ms/step - loss: 0.3119 - accuracy: 0.8929 - val_loss: 0.3621 - val_accuracy: 0.8764\n",
      "Epoch 20/40\n",
      "50/50 [==============================] - 1s 17ms/step - loss: 0.3110 - accuracy: 0.8964 - val_loss: 0.3477 - val_accuracy: 0.8833\n",
      "Epoch 21/40\n",
      "50/50 [==============================] - 1s 17ms/step - loss: 0.3096 - accuracy: 0.8928 - val_loss: 0.3509 - val_accuracy: 0.8789\n",
      "Epoch 22/40\n",
      "50/50 [==============================] - 1s 17ms/step - loss: 0.2898 - accuracy: 0.9022 - val_loss: 0.3687 - val_accuracy: 0.8791\n",
      "Epoch 23/40\n",
      "50/50 [==============================] - 1s 17ms/step - loss: 0.2840 - accuracy: 0.9054 - val_loss: 0.3237 - val_accuracy: 0.8917\n",
      "Epoch 24/40\n",
      "50/50 [==============================] - 1s 17ms/step - loss: 0.2671 - accuracy: 0.9118 - val_loss: 0.3104 - val_accuracy: 0.8966\n",
      "Epoch 25/40\n",
      "50/50 [==============================] - 1s 17ms/step - loss: 0.2696 - accuracy: 0.9106 - val_loss: 0.3022 - val_accuracy: 0.8967\n",
      "Epoch 26/40\n",
      "50/50 [==============================] - 1s 17ms/step - loss: 0.2613 - accuracy: 0.9138 - val_loss: 0.3022 - val_accuracy: 0.8977\n",
      "Epoch 27/40\n",
      "50/50 [==============================] - 1s 17ms/step - loss: 0.2477 - accuracy: 0.9158 - val_loss: 0.3051 - val_accuracy: 0.8950\n",
      "Epoch 28/40\n",
      "50/50 [==============================] - 1s 17ms/step - loss: 0.2554 - accuracy: 0.9162 - val_loss: 0.2919 - val_accuracy: 0.9020\n",
      "Epoch 29/40\n",
      "50/50 [==============================] - 1s 18ms/step - loss: 0.2329 - accuracy: 0.9228 - val_loss: 0.2920 - val_accuracy: 0.8978\n",
      "Epoch 30/40\n",
      "50/50 [==============================] - 1s 19ms/step - loss: 0.2374 - accuracy: 0.9222 - val_loss: 0.3044 - val_accuracy: 0.8950\n",
      "Epoch 31/40\n",
      "50/50 [==============================] - 1s 19ms/step - loss: 0.2359 - accuracy: 0.9229 - val_loss: 0.2844 - val_accuracy: 0.9062\n",
      "Epoch 32/40\n",
      "50/50 [==============================] - 1s 17ms/step - loss: 0.2214 - accuracy: 0.9267 - val_loss: 0.2747 - val_accuracy: 0.9044\n",
      "Epoch 33/40\n",
      "50/50 [==============================] - 1s 17ms/step - loss: 0.2291 - accuracy: 0.9242 - val_loss: 0.2765 - val_accuracy: 0.9064\n",
      "Epoch 34/40\n",
      "50/50 [==============================] - 1s 17ms/step - loss: 0.2254 - accuracy: 0.9245 - val_loss: 0.2698 - val_accuracy: 0.9067\n",
      "Epoch 35/40\n",
      "50/50 [==============================] - 1s 17ms/step - loss: 0.2180 - accuracy: 0.9261 - val_loss: 0.2841 - val_accuracy: 0.9034\n",
      "Epoch 36/40\n",
      "50/50 [==============================] - 1s 17ms/step - loss: 0.2187 - accuracy: 0.9278 - val_loss: 0.2625 - val_accuracy: 0.9120\n",
      "Epoch 37/40\n",
      "50/50 [==============================] - 1s 17ms/step - loss: 0.2051 - accuracy: 0.9309 - val_loss: 0.2607 - val_accuracy: 0.9111\n",
      "Epoch 38/40\n",
      "50/50 [==============================] - 1s 17ms/step - loss: 0.1963 - accuracy: 0.9344 - val_loss: 0.2583 - val_accuracy: 0.9128\n",
      "Epoch 39/40\n",
      "50/50 [==============================] - 1s 17ms/step - loss: 0.1985 - accuracy: 0.9346 - val_loss: 0.2544 - val_accuracy: 0.9158\n",
      "Epoch 40/40\n",
      "50/50 [==============================] - 1s 17ms/step - loss: 0.1960 - accuracy: 0.9344 - val_loss: 0.2573 - val_accuracy: 0.9123\n"
     ]
    }
   ],
   "source": [
    "tensorboard = keras.callbacks.TensorBoard(\n",
    "    log_dir=\"/content\",\n",
    ")\n",
    "callbacks_list = [\n",
    "    keras.callbacks.EarlyStopping(\n",
    "        monitor=\"accuracy\",\n",
    "        patience=4,\n",
    "    ),\n",
    "    keras.callbacks.ModelCheckpoint(\n",
    "        filepath=\"checkpoint_path.keras\",\n",
    "        monitor=\"val_loss\",\n",
    "        save_best_only=True,\n",
    "    ),\n",
    "]\n",
    "model_05.compile(optimizer=\"rmsprop\",\n",
    "    loss=\"sparse_categorical_crossentropy\",\n",
    "    metrics=[\"accuracy\"])\n",
    "history5=model_05.fit(x_data3, y_data, epochs=40,callbacks=[tensorboard], batch_size=512,validation_split=0.2)"
   ]
  },
  {
   "cell_type": "code",
   "execution_count": 111,
   "metadata": {
    "execution": {
     "iopub.execute_input": "2021-08-13T01:10:24.651283Z",
     "iopub.status.busy": "2021-08-13T01:10:24.651018Z",
     "iopub.status.idle": "2021-08-13T01:10:24.971547Z",
     "shell.execute_reply": "2021-08-13T01:10:24.970552Z",
     "shell.execute_reply.started": "2021-08-13T01:10:24.651256Z"
    }
   },
   "outputs": [
    {
     "data": {
      "image/png": "[encoded data removed]",
      "text/plain": [
       "<Figure size 432x288 with 1 Axes>"
      ]
     },
     "metadata": {
      "needs_background": "light"
     },
     "output_type": "display_data"
    },
    {
     "data": {
      "image/png": "[encoded data removed]",
      "text/plain": [
       "<Figure size 432x288 with 1 Axes>"
      ]
     },
     "metadata": {
      "needs_background": "light"
     },
     "output_type": "display_data"
    }
   ],
   "source": [
    "plotacc(history5)"
   ]
  },
  {
   "cell_type": "markdown",
   "metadata": {},
   "source": [
    "**Summary5**  \n",
    "In model_05 we add a data_argumentation which had a significant improvement.   \n",
    "The val_acc reach 0.91 and the val_loss was decrease to 0.25.  \n",
    "Maybe we can tried to add more layers or improve the data augmentation to get a better result."
   ]
  },
  {
   "cell_type": "markdown",
   "metadata": {},
   "source": [
    "### Model 6 date 2021/08/08"
   ]
  },
  {
   "cell_type": "code",
   "execution_count": 119,
   "metadata": {
    "execution": {
     "iopub.execute_input": "2021-08-13T01:46:48.563185Z",
     "iopub.status.busy": "2021-08-13T01:46:48.562814Z",
     "iopub.status.idle": "2021-08-13T01:46:48.762230Z",
     "shell.execute_reply": "2021-08-13T01:46:48.761107Z",
     "shell.execute_reply.started": "2021-08-13T01:46:48.563149Z"
    }
   },
   "outputs": [
    {
     "name": "stdout",
     "output_type": "stream",
     "text": [
      "Model: \"sequential_36\"\n",
      "_________________________________________________________________\n",
      "Layer (type)                 Output Shape              Param #   \n",
      "=================================================================\n",
      "sequential_35 (Sequential)   (None, 28, 56, 1)         0         \n",
      "_________________________________________________________________\n",
      "conv2d_44 (Conv2D)           (None, 26, 54, 32)        320       \n",
      "_________________________________________________________________\n",
      "conv2d_45 (Conv2D)           (None, 24, 52, 32)        9248      \n",
      "_________________________________________________________________\n",
      "max_pooling2d_38 (MaxPooling (None, 12, 26, 32)        0         \n",
      "_________________________________________________________________\n",
      "dropout_56 (Dropout)         (None, 12, 26, 32)        0         \n",
      "_________________________________________________________________\n",
      "conv2d_46 (Conv2D)           (None, 10, 24, 64)        18496     \n",
      "_________________________________________________________________\n",
      "conv2d_47 (Conv2D)           (None, 8, 22, 64)         36928     \n",
      "_________________________________________________________________\n",
      "max_pooling2d_39 (MaxPooling (None, 4, 11, 64)         0         \n",
      "_________________________________________________________________\n",
      "dropout_57 (Dropout)         (None, 4, 11, 64)         0         \n",
      "_________________________________________________________________\n",
      "conv2d_48 (Conv2D)           (None, 2, 9, 256)         147712    \n",
      "_________________________________________________________________\n",
      "max_pooling2d_40 (MaxPooling (None, 1, 4, 256)         0         \n",
      "_________________________________________________________________\n",
      "dropout_58 (Dropout)         (None, 1, 4, 256)         0         \n",
      "_________________________________________________________________\n",
      "flatten_18 (Flatten)         (None, 1024)              0         \n",
      "_________________________________________________________________\n",
      "dense_69 (Dense)             (None, 256)               262400    \n",
      "_________________________________________________________________\n",
      "dropout_59 (Dropout)         (None, 256)               0         \n",
      "_________________________________________________________________\n",
      "dense_70 (Dense)             (None, 10)                2570      \n",
      "=================================================================\n",
      "Total params: 477,674\n",
      "Trainable params: 477,674\n",
      "Non-trainable params: 0\n",
      "_________________________________________________________________\n"
     ]
    }
   ],
   "source": [
    "#model 06 date 2021/08/08\n",
    "data_augmentation = keras.Sequential(\n",
    "  [### Model 3 date 2021/08/07\n",
    "#   layers.experimental.preprocessing.RandomFlip(\"horizontal\"),\n",
    "    layers.experimental.preprocessing.RandomRotation(0.1),\n",
    "    layers.experimental.preprocessing.Rescaling(1./255)\n",
    "#   layers.experimental.preprocessing.RandomContrast(0.2),\n",
    "  ]\n",
    ")\n",
    "model_06 = keras.Sequential([\n",
    "    data_augmentation,\n",
    "    layers.Conv2D(filters=32, kernel_size=3, activation='relu'),\n",
    "    layers.Conv2D(filters=32, kernel_size=3, activation='relu'),\n",
    "    layers.MaxPool2D(),\n",
    "    layers.Dropout(0.2),\n",
    "    layers.Conv2D(filters=64, kernel_size=3, activation='relu'),\n",
    "    layers.Conv2D(filters=64, kernel_size=3, activation='relu'),\n",
    "    layers.MaxPool2D(),\n",
    "    layers.Dropout(0.2),\n",
    "    layers.Conv2D(filters=256, kernel_size=3, activation='relu'),\n",
    "    layers.MaxPool2D(),\n",
    "    layers.Dropout(0.2),\n",
    "    layers.Flatten(),\n",
    "    layers.Dense(256, activation=\"relu\"),\n",
    "    layers.Dropout(0.2),\n",
    "    layers.Dense(10, activation=\"softmax\")\n",
    "])\n",
    "\n",
    "model_06.build(input_shape=(None,28,56,1))\n",
    "model_06.summary()\n"
   ]
  },
  {
   "cell_type": "code",
   "execution_count": 121,
   "metadata": {
    "execution": {
     "iopub.execute_input": "2021-08-13T01:47:12.777243Z",
     "iopub.status.busy": "2021-08-13T01:47:12.776909Z",
     "iopub.status.idle": "2021-08-13T01:49:03.550617Z",
     "shell.execute_reply": "2021-08-13T01:49:03.549784Z",
     "shell.execute_reply.started": "2021-08-13T01:47:12.777210Z"
    }
   },
   "outputs": [
    {
     "name": "stdout",
     "output_type": "stream",
     "text": [
      "Epoch 1/80\n",
      "50/50 [==============================] - 3s 39ms/step - loss: 2.1152 - accuracy: 0.1940 - val_loss: 1.8460 - val_accuracy: 0.3025\n",
      "Epoch 2/80\n",
      "50/50 [==============================] - 1s 27ms/step - loss: 1.7821 - accuracy: 0.3533 - val_loss: 1.5043 - val_accuracy: 0.4516\n",
      "Epoch 3/80\n",
      "50/50 [==============================] - 1s 28ms/step - loss: 1.3903 - accuracy: 0.5070 - val_loss: 1.1082 - val_accuracy: 0.6108\n",
      "Epoch 4/80\n",
      "50/50 [==============================] - 1s 27ms/step - loss: 1.0510 - accuracy: 0.6438 - val_loss: 0.9405 - val_accuracy: 0.6753\n",
      "Epoch 5/80\n",
      "50/50 [==============================] - 1s 27ms/step - loss: 0.8301 - accuracy: 0.7166 - val_loss: 0.7709 - val_accuracy: 0.7353\n",
      "Epoch 6/80\n",
      "50/50 [==============================] - 1s 27ms/step - loss: 0.6457 - accuracy: 0.7829 - val_loss: 0.6692 - val_accuracy: 0.7688\n",
      "Epoch 7/80\n",
      "50/50 [==============================] - 1s 27ms/step - loss: 0.5505 - accuracy: 0.8156 - val_loss: 0.5300 - val_accuracy: 0.8278\n",
      "Epoch 8/80\n",
      "50/50 [==============================] - 1s 27ms/step - loss: 0.4605 - accuracy: 0.8468 - val_loss: 0.4069 - val_accuracy: 0.8673\n",
      "Epoch 9/80\n",
      "50/50 [==============================] - 1s 27ms/step - loss: 0.3955 - accuracy: 0.8715 - val_loss: 0.3709 - val_accuracy: 0.8734\n",
      "Epoch 10/80\n",
      "50/50 [==============================] - 1s 27ms/step - loss: 0.3444 - accuracy: 0.8850 - val_loss: 0.3284 - val_accuracy: 0.8913\n",
      "Epoch 11/80\n",
      "50/50 [==============================] - 1s 27ms/step - loss: 0.3152 - accuracy: 0.8956 - val_loss: 0.3631 - val_accuracy: 0.8802\n",
      "Epoch 12/80\n",
      "50/50 [==============================] - 1s 27ms/step - loss: 0.2821 - accuracy: 0.9101 - val_loss: 0.3293 - val_accuracy: 0.8908\n",
      "Epoch 13/80\n",
      "50/50 [==============================] - 1s 27ms/step - loss: 0.2631 - accuracy: 0.9189 - val_loss: 0.2825 - val_accuracy: 0.9059\n",
      "Epoch 14/80\n",
      "50/50 [==============================] - 1s 28ms/step - loss: 0.2323 - accuracy: 0.9247 - val_loss: 0.2938 - val_accuracy: 0.9009\n",
      "Epoch 15/80\n",
      "50/50 [==============================] - 1s 27ms/step - loss: 0.2186 - accuracy: 0.9318 - val_loss: 0.2285 - val_accuracy: 0.9278\n",
      "Epoch 16/80\n",
      "50/50 [==============================] - 1s 27ms/step - loss: 0.1926 - accuracy: 0.9377 - val_loss: 0.2337 - val_accuracy: 0.9237\n",
      "Epoch 17/80\n",
      "50/50 [==============================] - 1s 27ms/step - loss: 0.1953 - accuracy: 0.9377 - val_loss: 0.2439 - val_accuracy: 0.9212\n",
      "Epoch 18/80\n",
      "50/50 [==============================] - 1s 27ms/step - loss: 0.1840 - accuracy: 0.9413 - val_loss: 0.2241 - val_accuracy: 0.9294\n",
      "Epoch 19/80\n",
      "50/50 [==============================] - 1s 27ms/step - loss: 0.1689 - accuracy: 0.9453 - val_loss: 0.1883 - val_accuracy: 0.9389\n",
      "Epoch 20/80\n",
      "50/50 [==============================] - 1s 28ms/step - loss: 0.1626 - accuracy: 0.9488 - val_loss: 0.1993 - val_accuracy: 0.9334\n",
      "Epoch 21/80\n",
      "50/50 [==============================] - 1s 27ms/step - loss: 0.1596 - accuracy: 0.9487 - val_loss: 0.1783 - val_accuracy: 0.9427\n",
      "Epoch 22/80\n",
      "50/50 [==============================] - 1s 27ms/step - loss: 0.1479 - accuracy: 0.9526 - val_loss: 0.1715 - val_accuracy: 0.9436\n",
      "Epoch 23/80\n",
      "50/50 [==============================] - 1s 27ms/step - loss: 0.1397 - accuracy: 0.9574 - val_loss: 0.1774 - val_accuracy: 0.9431\n",
      "Epoch 24/80\n",
      "50/50 [==============================] - 1s 27ms/step - loss: 0.1408 - accuracy: 0.9537 - val_loss: 0.1675 - val_accuracy: 0.9488\n",
      "Epoch 25/80\n",
      "50/50 [==============================] - 1s 27ms/step - loss: 0.1283 - accuracy: 0.9582 - val_loss: 0.1594 - val_accuracy: 0.9500\n",
      "Epoch 26/80\n",
      "50/50 [==============================] - 1s 27ms/step - loss: 0.1266 - accuracy: 0.9601 - val_loss: 0.1781 - val_accuracy: 0.9420\n",
      "Epoch 27/80\n",
      "50/50 [==============================] - 1s 27ms/step - loss: 0.1189 - accuracy: 0.9623 - val_loss: 0.1616 - val_accuracy: 0.9489\n",
      "Epoch 28/80\n",
      "50/50 [==============================] - 1s 28ms/step - loss: 0.1141 - accuracy: 0.9622 - val_loss: 0.1652 - val_accuracy: 0.9447\n",
      "Epoch 29/80\n",
      "50/50 [==============================] - 1s 27ms/step - loss: 0.1146 - accuracy: 0.9632 - val_loss: 0.1521 - val_accuracy: 0.9500\n",
      "Epoch 30/80\n",
      "50/50 [==============================] - 1s 27ms/step - loss: 0.1041 - accuracy: 0.9666 - val_loss: 0.1599 - val_accuracy: 0.9480\n",
      "Epoch 31/80\n",
      "50/50 [==============================] - 1s 27ms/step - loss: 0.1038 - accuracy: 0.9667 - val_loss: 0.1625 - val_accuracy: 0.9517\n",
      "Epoch 32/80\n",
      "50/50 [==============================] - 1s 27ms/step - loss: 0.1088 - accuracy: 0.9651 - val_loss: 0.1503 - val_accuracy: 0.9495\n",
      "Epoch 33/80\n",
      "50/50 [==============================] - 1s 27ms/step - loss: 0.0984 - accuracy: 0.9705 - val_loss: 0.1399 - val_accuracy: 0.9564\n",
      "Epoch 34/80\n",
      "50/50 [==============================] - 1s 27ms/step - loss: 0.0998 - accuracy: 0.9683 - val_loss: 0.1436 - val_accuracy: 0.9525\n",
      "Epoch 35/80\n",
      "50/50 [==============================] - 1s 27ms/step - loss: 0.0927 - accuracy: 0.9704 - val_loss: 0.1431 - val_accuracy: 0.9545\n",
      "Epoch 36/80\n",
      "50/50 [==============================] - 1s 27ms/step - loss: 0.0930 - accuracy: 0.9695 - val_loss: 0.1484 - val_accuracy: 0.9508\n",
      "Epoch 37/80\n",
      "50/50 [==============================] - 1s 27ms/step - loss: 0.0943 - accuracy: 0.9710 - val_loss: 0.1304 - val_accuracy: 0.9589\n",
      "Epoch 38/80\n",
      "50/50 [==============================] - 1s 29ms/step - loss: 0.0898 - accuracy: 0.9704 - val_loss: 0.1335 - val_accuracy: 0.9570\n",
      "Epoch 39/80\n",
      "50/50 [==============================] - 1s 27ms/step - loss: 0.0868 - accuracy: 0.9736 - val_loss: 0.1379 - val_accuracy: 0.9561\n",
      "Epoch 40/80\n",
      "50/50 [==============================] - 1s 27ms/step - loss: 0.0882 - accuracy: 0.9715 - val_loss: 0.1331 - val_accuracy: 0.9581\n",
      "Epoch 41/80\n",
      "50/50 [==============================] - 1s 27ms/step - loss: 0.0860 - accuracy: 0.9721 - val_loss: 0.1242 - val_accuracy: 0.9602\n",
      "Epoch 42/80\n",
      "50/50 [==============================] - 1s 27ms/step - loss: 0.0807 - accuracy: 0.9741 - val_loss: 0.1478 - val_accuracy: 0.9539\n",
      "Epoch 43/80\n",
      "50/50 [==============================] - 1s 27ms/step - loss: 0.0845 - accuracy: 0.9731 - val_loss: 0.1289 - val_accuracy: 0.9566\n",
      "Epoch 44/80\n",
      "50/50 [==============================] - 1s 28ms/step - loss: 0.0791 - accuracy: 0.9727 - val_loss: 0.1206 - val_accuracy: 0.9605\n",
      "Epoch 45/80\n",
      "50/50 [==============================] - 1s 27ms/step - loss: 0.0797 - accuracy: 0.9729 - val_loss: 0.1258 - val_accuracy: 0.9583\n",
      "Epoch 46/80\n",
      "50/50 [==============================] - 1s 27ms/step - loss: 0.0781 - accuracy: 0.9748 - val_loss: 0.1311 - val_accuracy: 0.9569\n",
      "Epoch 47/80\n",
      "50/50 [==============================] - 1s 27ms/step - loss: 0.0764 - accuracy: 0.9746 - val_loss: 0.1264 - val_accuracy: 0.9589\n",
      "Epoch 48/80\n",
      "50/50 [==============================] - 1s 27ms/step - loss: 0.0817 - accuracy: 0.9731 - val_loss: 0.1200 - val_accuracy: 0.9619\n",
      "Epoch 49/80\n",
      "50/50 [==============================] - 1s 27ms/step - loss: 0.0767 - accuracy: 0.9761 - val_loss: 0.1243 - val_accuracy: 0.9588\n",
      "Epoch 50/80\n",
      "50/50 [==============================] - 1s 27ms/step - loss: 0.0712 - accuracy: 0.9769 - val_loss: 0.1163 - val_accuracy: 0.9630\n",
      "Epoch 51/80\n",
      "50/50 [==============================] - 1s 27ms/step - loss: 0.0733 - accuracy: 0.9755 - val_loss: 0.1161 - val_accuracy: 0.9645\n",
      "Epoch 52/80\n",
      "50/50 [==============================] - 1s 27ms/step - loss: 0.0703 - accuracy: 0.9777 - val_loss: 0.1203 - val_accuracy: 0.9630\n",
      "Epoch 53/80\n",
      "50/50 [==============================] - 1s 27ms/step - loss: 0.0704 - accuracy: 0.9778 - val_loss: 0.1197 - val_accuracy: 0.9625\n",
      "Epoch 54/80\n",
      "50/50 [==============================] - 1s 27ms/step - loss: 0.0642 - accuracy: 0.9787 - val_loss: 0.1300 - val_accuracy: 0.9586\n",
      "Epoch 55/80\n",
      "50/50 [==============================] - 1s 27ms/step - loss: 0.0689 - accuracy: 0.9786 - val_loss: 0.1104 - val_accuracy: 0.9628\n",
      "Epoch 56/80\n",
      "50/50 [==============================] - 1s 27ms/step - loss: 0.0607 - accuracy: 0.9814 - val_loss: 0.1164 - val_accuracy: 0.9617\n",
      "Epoch 57/80\n",
      "50/50 [==============================] - 1s 27ms/step - loss: 0.0642 - accuracy: 0.9801 - val_loss: 0.1139 - val_accuracy: 0.9631\n",
      "Epoch 58/80\n",
      "50/50 [==============================] - 1s 27ms/step - loss: 0.0644 - accuracy: 0.9784 - val_loss: 0.1185 - val_accuracy: 0.9627\n",
      "Epoch 59/80\n",
      "50/50 [==============================] - 1s 27ms/step - loss: 0.0674 - accuracy: 0.9774 - val_loss: 0.1120 - val_accuracy: 0.9648\n",
      "Epoch 60/80\n",
      "50/50 [==============================] - 1s 28ms/step - loss: 0.0608 - accuracy: 0.9802 - val_loss: 0.1351 - val_accuracy: 0.9581\n",
      "Epoch 61/80\n",
      "50/50 [==============================] - 1s 27ms/step - loss: 0.0645 - accuracy: 0.9808 - val_loss: 0.1214 - val_accuracy: 0.9613\n",
      "Epoch 62/80\n",
      "50/50 [==============================] - 1s 29ms/step - loss: 0.0590 - accuracy: 0.9812 - val_loss: 0.1222 - val_accuracy: 0.9589\n",
      "Epoch 63/80\n",
      "50/50 [==============================] - 1s 28ms/step - loss: 0.0654 - accuracy: 0.9777 - val_loss: 0.1266 - val_accuracy: 0.9597\n",
      "Epoch 64/80\n",
      "50/50 [==============================] - 1s 27ms/step - loss: 0.0589 - accuracy: 0.9808 - val_loss: 0.1138 - val_accuracy: 0.9627\n",
      "Epoch 65/80\n",
      "50/50 [==============================] - 1s 27ms/step - loss: 0.0667 - accuracy: 0.9794 - val_loss: 0.1102 - val_accuracy: 0.9639\n",
      "Epoch 66/80\n",
      "50/50 [==============================] - 1s 27ms/step - loss: 0.0546 - accuracy: 0.9814 - val_loss: 0.1073 - val_accuracy: 0.9642\n",
      "Epoch 67/80\n",
      "50/50 [==============================] - 1s 27ms/step - loss: 0.0589 - accuracy: 0.9806 - val_loss: 0.1096 - val_accuracy: 0.9631\n",
      "Epoch 68/80\n",
      "50/50 [==============================] - 1s 29ms/step - loss: 0.0571 - accuracy: 0.9812 - val_loss: 0.1126 - val_accuracy: 0.9644\n",
      "Epoch 69/80\n",
      "50/50 [==============================] - 1s 27ms/step - loss: 0.0579 - accuracy: 0.9822 - val_loss: 0.1044 - val_accuracy: 0.9670\n",
      "Epoch 70/80\n",
      "50/50 [==============================] - 1s 27ms/step - loss: 0.0609 - accuracy: 0.9815 - val_loss: 0.1128 - val_accuracy: 0.9636\n",
      "Epoch 71/80\n",
      "50/50 [==============================] - 1s 27ms/step - loss: 0.0602 - accuracy: 0.9811 - val_loss: 0.1000 - val_accuracy: 0.9669\n",
      "Epoch 72/80\n",
      "50/50 [==============================] - 1s 27ms/step - loss: 0.0603 - accuracy: 0.9807 - val_loss: 0.1003 - val_accuracy: 0.9664\n",
      "Epoch 73/80\n",
      "50/50 [==============================] - 1s 27ms/step - loss: 0.0562 - accuracy: 0.9821 - val_loss: 0.1057 - val_accuracy: 0.9653\n",
      "Epoch 74/80\n",
      "50/50 [==============================] - 1s 27ms/step - loss: 0.0577 - accuracy: 0.9824 - val_loss: 0.1084 - val_accuracy: 0.9641\n",
      "Epoch 75/80\n",
      "50/50 [==============================] - 1s 27ms/step - loss: 0.0518 - accuracy: 0.9828 - val_loss: 0.1240 - val_accuracy: 0.9575\n",
      "Epoch 76/80\n",
      "50/50 [==============================] - 1s 29ms/step - loss: 0.0571 - accuracy: 0.9814 - val_loss: 0.1164 - val_accuracy: 0.9622\n",
      "Epoch 77/80\n",
      "50/50 [==============================] - 1s 27ms/step - loss: 0.0551 - accuracy: 0.9827 - val_loss: 0.1152 - val_accuracy: 0.9641\n",
      "Epoch 78/80\n",
      "50/50 [==============================] - 1s 27ms/step - loss: 0.0548 - accuracy: 0.9829 - val_loss: 0.1082 - val_accuracy: 0.9650\n",
      "Epoch 79/80\n",
      "50/50 [==============================] - 1s 27ms/step - loss: 0.0555 - accuracy: 0.9826 - val_loss: 0.1120 - val_accuracy: 0.9647\n",
      "Epoch 80/80\n",
      "50/50 [==============================] - 1s 27ms/step - loss: 0.0501 - accuracy: 0.9835 - val_loss: 0.1070 - val_accuracy: 0.9644\n"
     ]
    }
   ],
   "source": [
    "tensorboard = keras.callbacks.TensorBoard(\n",
    "    log_dir=\"/content\",\n",
    ")\n",
    "callbacks_list = [\n",
    "    keras.callbacks.EarlyStopping(\n",
    "        monitor=\"accuracy\",\n",
    "        patience=4,\n",
    "    ),\n",
    "    keras.callbacks.ModelCheckpoint(\n",
    "        filepath=\"checkpoint_path.keras\",\n",
    "        monitor=\"val_loss\",\n",
    "        save_best_only=True,\n",
    "    ),\n",
    "    keras.callbacks.ModelCheckpoint(\n",
    "            filepath=\"fine_tuning.keras\",\n",
    "            save_best_only=True,\n",
    "            monitor=\"val_loss\")\n",
    "]\n",
    "model_06.compile(optimizer=\"rmsprop\",\n",
    "    loss=\"sparse_categorical_crossentropy\",\n",
    "    metrics=[\"accuracy\"])\n",
    "history6=model_06.fit(x_data3, y_data, epochs=80,callbacks=[tensorboard], batch_size=512,validation_split=0.2)"
   ]
  },
  {
   "cell_type": "code",
   "execution_count": 122,
   "metadata": {
    "execution": {
     "iopub.execute_input": "2021-08-13T01:49:57.656410Z",
     "iopub.status.busy": "2021-08-13T01:49:57.656059Z",
     "iopub.status.idle": "2021-08-13T01:49:58.028347Z",
     "shell.execute_reply": "2021-08-13T01:49:58.027371Z",
     "shell.execute_reply.started": "2021-08-13T01:49:57.656376Z"
    }
   },
   "outputs": [
    {
     "data": {
      "image/png": "[encoded data removed]",
      "text/plain": [
       "<Figure size 432x288 with 1 Axes>"
      ]
     },
     "metadata": {
      "needs_background": "light"
     },
     "output_type": "display_data"
    },
    {
     "data": {
      "image/png": "[encoded data removed]",
      "text/plain": [
       "<Figure size 432x288 with 1 Axes>"
      ]
     },
     "metadata": {
      "needs_background": "light"
     },
     "output_type": "display_data"
    }
   ],
   "source": [
    "plotacc(history6)"
   ]
  },
  {
   "cell_type": "markdown",
   "metadata": {},
   "source": [
    "**Summary6**  \n",
    "In model 6 we add more Convolution layers and got a better result.  \n",
    "We also change the epochs from 40 to 80.  \n",
    "The val_acc improved from 0.91 to 0.96,  \n",
    "The val_loss decreased from 0.25 to 0.1."
   ]
  },
  {
   "cell_type": "markdown",
   "metadata": {},
   "source": [
    "### Model 7 date 2021/08/09"
   ]
  },
  {
   "cell_type": "code",
   "execution_count": 130,
   "metadata": {
    "execution": {
     "iopub.execute_input": "2021-08-13T02:01:21.083404Z",
     "iopub.status.busy": "2021-08-13T02:01:21.083063Z",
     "iopub.status.idle": "2021-08-13T02:01:21.338458Z",
     "shell.execute_reply": "2021-08-13T02:01:21.337022Z",
     "shell.execute_reply.started": "2021-08-13T02:01:21.083369Z"
    }
   },
   "outputs": [
    {
     "name": "stdout",
     "output_type": "stream",
     "text": [
      "Model: \"sequential_42\"\n",
      "_________________________________________________________________\n",
      "Layer (type)                 Output Shape              Param #   \n",
      "=================================================================\n",
      "sequential_41 (Sequential)   (None, 28, 56, 1)         0         \n",
      "_________________________________________________________________\n",
      "conv2d_59 (Conv2D)           (None, 26, 54, 32)        320       \n",
      "_________________________________________________________________\n",
      "conv2d_60 (Conv2D)           (None, 24, 52, 32)        9248      \n",
      "_________________________________________________________________\n",
      "max_pooling2d_47 (MaxPooling (None, 12, 26, 32)        0         \n",
      "_________________________________________________________________\n",
      "dropout_68 (Dropout)         (None, 12, 26, 32)        0         \n",
      "_________________________________________________________________\n",
      "conv2d_61 (Conv2D)           (None, 10, 24, 64)        18496     \n",
      "_________________________________________________________________\n",
      "conv2d_62 (Conv2D)           (None, 8, 22, 64)         36928     \n",
      "_________________________________________________________________\n",
      "max_pooling2d_48 (MaxPooling (None, 4, 11, 64)         0         \n",
      "_________________________________________________________________\n",
      "dropout_69 (Dropout)         (None, 4, 11, 64)         0         \n",
      "_________________________________________________________________\n",
      "conv2d_63 (Conv2D)           (None, 2, 9, 256)         147712    \n",
      "_________________________________________________________________\n",
      "max_pooling2d_49 (MaxPooling (None, 1, 4, 256)         0         \n",
      "_________________________________________________________________\n",
      "dropout_70 (Dropout)         (None, 1, 4, 256)         0         \n",
      "_________________________________________________________________\n",
      "flatten_21 (Flatten)         (None, 1024)              0         \n",
      "_________________________________________________________________\n",
      "dense_75 (Dense)             (None, 256)               262400    \n",
      "_________________________________________________________________\n",
      "dense_76 (Dense)             (None, 10)                2570      \n",
      "=================================================================\n",
      "Total params: 477,674\n",
      "Trainable params: 477,674\n",
      "Non-trainable params: 0\n",
      "_________________________________________________________________\n"
     ]
    }
   ],
   "source": [
    "# model 07 date 2021/08/09\n",
    "data_augmentation = keras.Sequential(\n",
    "  [\n",
    "    layers.experimental.preprocessing.RandomRotation(0.1),\n",
    "    layers.experimental.preprocessing.RandomZoom(0.1),\n",
    "    layers.experimental.preprocessing.Rescaling(1./255)\n",
    "  ]\n",
    ")\n",
    "model_07 = keras.Sequential([\n",
    "    data_augmentation,\n",
    "    layers.Conv2D(filters=32, kernel_size=3, activation='relu'),\n",
    "    layers.Conv2D(filters=32, kernel_size=3, activation='relu'),\n",
    "    layers.MaxPool2D(),\n",
    "    layers.Dropout(0.2),\n",
    "    layers.Conv2D(filters=64, kernel_size=3, activation='relu'),\n",
    "    layers.Conv2D(filters=64, kernel_size=3, activation='relu'),\n",
    "    layers.MaxPool2D(),\n",
    "    layers.Dropout(0.2),\n",
    "    layers.Conv2D(filters=256, kernel_size=3, activation='relu'),\n",
    "    layers.MaxPool2D(),\n",
    "    layers.Dropout(0.2),\n",
    "    layers.Flatten(),\n",
    "    layers.Dense(256, activation=\"relu\"),\n",
    "    layers.Dense(10, activation=\"softmax\")\n",
    "])\n",
    "\n",
    "model_07.build(input_shape=(None,28,56,1))\n",
    "model_07.summary()\n"
   ]
  },
  {
   "cell_type": "code",
   "execution_count": 131,
   "metadata": {
    "execution": {
     "iopub.execute_input": "2021-08-13T02:01:21.710071Z",
     "iopub.status.busy": "2021-08-13T02:01:21.709732Z",
     "iopub.status.idle": "2021-08-13T02:03:07.632693Z",
     "shell.execute_reply": "2021-08-13T02:03:07.631725Z",
     "shell.execute_reply.started": "2021-08-13T02:01:21.710038Z"
    }
   },
   "outputs": [
    {
     "name": "stdout",
     "output_type": "stream",
     "text": [
      "Epoch 1/80\n",
      "25/25 [==============================] - 3s 77ms/step - loss: 2.1554 - accuracy: 0.1775 - val_loss: 2.0335 - val_accuracy: 0.2456\n",
      "Epoch 2/80\n",
      "25/25 [==============================] - 1s 53ms/step - loss: 2.0169 - accuracy: 0.2358 - val_loss: 1.8560 - val_accuracy: 0.2761\n",
      "Epoch 3/80\n",
      "25/25 [==============================] - 1s 51ms/step - loss: 1.8082 - accuracy: 0.3374 - val_loss: 1.9299 - val_accuracy: 0.3664\n",
      "Epoch 4/80\n",
      "25/25 [==============================] - 1s 51ms/step - loss: 1.6268 - accuracy: 0.4300 - val_loss: 1.3176 - val_accuracy: 0.5481\n",
      "Epoch 5/80\n",
      "25/25 [==============================] - 1s 51ms/step - loss: 1.3737 - accuracy: 0.5181 - val_loss: 1.1416 - val_accuracy: 0.6056\n",
      "Epoch 6/80\n",
      "25/25 [==============================] - 1s 51ms/step - loss: 1.1736 - accuracy: 0.5959 - val_loss: 1.1343 - val_accuracy: 0.6087\n",
      "Epoch 7/80\n",
      "25/25 [==============================] - 1s 51ms/step - loss: 1.0430 - accuracy: 0.6440 - val_loss: 0.9682 - val_accuracy: 0.6861\n",
      "Epoch 8/80\n",
      "25/25 [==============================] - 1s 51ms/step - loss: 0.8897 - accuracy: 0.6995 - val_loss: 0.7115 - val_accuracy: 0.7620\n",
      "Epoch 9/80\n",
      "25/25 [==============================] - 1s 51ms/step - loss: 0.7805 - accuracy: 0.7418 - val_loss: 0.7889 - val_accuracy: 0.7298\n",
      "Epoch 10/80\n",
      "25/25 [==============================] - 1s 54ms/step - loss: 0.7662 - accuracy: 0.7411 - val_loss: 0.6281 - val_accuracy: 0.7884\n",
      "Epoch 11/80\n",
      "25/25 [==============================] - 1s 52ms/step - loss: 0.6511 - accuracy: 0.7831 - val_loss: 0.5943 - val_accuracy: 0.8031\n",
      "Epoch 12/80\n",
      "25/25 [==============================] - 1s 51ms/step - loss: 0.5807 - accuracy: 0.8065 - val_loss: 0.4899 - val_accuracy: 0.8378\n",
      "Epoch 13/80\n",
      "25/25 [==============================] - 1s 51ms/step - loss: 0.5116 - accuracy: 0.8311 - val_loss: 0.4990 - val_accuracy: 0.8331\n",
      "Epoch 14/80\n",
      "25/25 [==============================] - 1s 52ms/step - loss: 0.4876 - accuracy: 0.8388 - val_loss: 0.4607 - val_accuracy: 0.8484\n",
      "Epoch 15/80\n",
      "25/25 [==============================] - 1s 51ms/step - loss: 0.4249 - accuracy: 0.8591 - val_loss: 0.3567 - val_accuracy: 0.8813\n",
      "Epoch 16/80\n",
      "25/25 [==============================] - 1s 51ms/step - loss: 0.3910 - accuracy: 0.8712 - val_loss: 0.3956 - val_accuracy: 0.8670\n",
      "Epoch 17/80\n",
      "25/25 [==============================] - 1s 54ms/step - loss: 0.3950 - accuracy: 0.8725 - val_loss: 0.3082 - val_accuracy: 0.8978\n",
      "Epoch 18/80\n",
      "25/25 [==============================] - 1s 52ms/step - loss: 0.3290 - accuracy: 0.8960 - val_loss: 0.2966 - val_accuracy: 0.9020\n",
      "Epoch 19/80\n",
      "25/25 [==============================] - 1s 52ms/step - loss: 0.2922 - accuracy: 0.9051 - val_loss: 0.3521 - val_accuracy: 0.8842\n",
      "Epoch 20/80\n",
      "25/25 [==============================] - 1s 51ms/step - loss: 0.3018 - accuracy: 0.9028 - val_loss: 0.2435 - val_accuracy: 0.9177\n",
      "Epoch 21/80\n",
      "25/25 [==============================] - 1s 51ms/step - loss: 0.2655 - accuracy: 0.9133 - val_loss: 0.2262 - val_accuracy: 0.9250\n",
      "Epoch 22/80\n",
      "25/25 [==============================] - 1s 51ms/step - loss: 0.2388 - accuracy: 0.9225 - val_loss: 0.2475 - val_accuracy: 0.9152\n",
      "Epoch 23/80\n",
      "25/25 [==============================] - 1s 51ms/step - loss: 0.2324 - accuracy: 0.9222 - val_loss: 0.2316 - val_accuracy: 0.9198\n",
      "Epoch 24/80\n",
      "25/25 [==============================] - 1s 51ms/step - loss: 0.2290 - accuracy: 0.9292 - val_loss: 0.2244 - val_accuracy: 0.9280\n",
      "Epoch 25/80\n",
      "25/25 [==============================] - 1s 52ms/step - loss: 0.2131 - accuracy: 0.9307 - val_loss: 0.2181 - val_accuracy: 0.9247\n",
      "Epoch 26/80\n",
      "25/25 [==============================] - 1s 52ms/step - loss: 0.1999 - accuracy: 0.9360 - val_loss: 0.1631 - val_accuracy: 0.9475\n",
      "Epoch 27/80\n",
      "25/25 [==============================] - 1s 54ms/step - loss: 0.1830 - accuracy: 0.9413 - val_loss: 0.1688 - val_accuracy: 0.9416\n",
      "Epoch 28/80\n",
      "25/25 [==============================] - 1s 52ms/step - loss: 0.1924 - accuracy: 0.9404 - val_loss: 0.1620 - val_accuracy: 0.9464\n",
      "Epoch 29/80\n",
      "25/25 [==============================] - 1s 52ms/step - loss: 0.1770 - accuracy: 0.9416 - val_loss: 0.1556 - val_accuracy: 0.9503\n",
      "Epoch 30/80\n",
      "25/25 [==============================] - 1s 52ms/step - loss: 0.1693 - accuracy: 0.9459 - val_loss: 0.1736 - val_accuracy: 0.9425\n",
      "Epoch 31/80\n",
      "25/25 [==============================] - 1s 52ms/step - loss: 0.1740 - accuracy: 0.9437 - val_loss: 0.1799 - val_accuracy: 0.9433\n",
      "Epoch 32/80\n",
      "25/25 [==============================] - 1s 52ms/step - loss: 0.1637 - accuracy: 0.9469 - val_loss: 0.1502 - val_accuracy: 0.9534\n",
      "Epoch 33/80\n",
      "25/25 [==============================] - 1s 52ms/step - loss: 0.1482 - accuracy: 0.9525 - val_loss: 0.1445 - val_accuracy: 0.9516\n",
      "Epoch 34/80\n",
      "25/25 [==============================] - 1s 52ms/step - loss: 0.1502 - accuracy: 0.9519 - val_loss: 0.1350 - val_accuracy: 0.9547\n",
      "Epoch 35/80\n",
      "25/25 [==============================] - 1s 52ms/step - loss: 0.1319 - accuracy: 0.9574 - val_loss: 0.1267 - val_accuracy: 0.9572\n",
      "Epoch 36/80\n",
      "25/25 [==============================] - 1s 53ms/step - loss: 0.1293 - accuracy: 0.9582 - val_loss: 0.2134 - val_accuracy: 0.9295\n",
      "Epoch 37/80\n",
      "25/25 [==============================] - 1s 52ms/step - loss: 0.1512 - accuracy: 0.9517 - val_loss: 0.1238 - val_accuracy: 0.9608\n",
      "Epoch 38/80\n",
      "25/25 [==============================] - 1s 52ms/step - loss: 0.1284 - accuracy: 0.9566 - val_loss: 0.1296 - val_accuracy: 0.9564\n",
      "Epoch 39/80\n",
      "25/25 [==============================] - 1s 52ms/step - loss: 0.1246 - accuracy: 0.9603 - val_loss: 0.1184 - val_accuracy: 0.9597\n",
      "Epoch 40/80\n",
      "25/25 [==============================] - 1s 52ms/step - loss: 0.1330 - accuracy: 0.9554 - val_loss: 0.1054 - val_accuracy: 0.9652\n",
      "Epoch 41/80\n",
      "25/25 [==============================] - 1s 52ms/step - loss: 0.1172 - accuracy: 0.9623 - val_loss: 0.1469 - val_accuracy: 0.9509\n",
      "Epoch 42/80\n",
      "25/25 [==============================] - 1s 52ms/step - loss: 0.1348 - accuracy: 0.9566 - val_loss: 0.1051 - val_accuracy: 0.9652\n",
      "Epoch 43/80\n",
      "25/25 [==============================] - 1s 55ms/step - loss: 0.1077 - accuracy: 0.9663 - val_loss: 0.1230 - val_accuracy: 0.9580\n",
      "Epoch 44/80\n",
      "25/25 [==============================] - 1s 53ms/step - loss: 0.1098 - accuracy: 0.9644 - val_loss: 0.1138 - val_accuracy: 0.9605\n",
      "Epoch 45/80\n",
      "25/25 [==============================] - 1s 52ms/step - loss: 0.1142 - accuracy: 0.9614 - val_loss: 0.1010 - val_accuracy: 0.9675\n",
      "Epoch 46/80\n",
      "25/25 [==============================] - 1s 51ms/step - loss: 0.1051 - accuracy: 0.9662 - val_loss: 0.1239 - val_accuracy: 0.9608\n",
      "Epoch 47/80\n",
      "25/25 [==============================] - 1s 52ms/step - loss: 0.0999 - accuracy: 0.9667 - val_loss: 0.1048 - val_accuracy: 0.9658\n",
      "Epoch 48/80\n",
      "25/25 [==============================] - 1s 51ms/step - loss: 0.0994 - accuracy: 0.9682 - val_loss: 0.1069 - val_accuracy: 0.9667\n",
      "Epoch 49/80\n",
      "25/25 [==============================] - 1s 52ms/step - loss: 0.0971 - accuracy: 0.9686 - val_loss: 0.0943 - val_accuracy: 0.9683\n",
      "Epoch 50/80\n",
      "25/25 [==============================] - 1s 52ms/step - loss: 0.0948 - accuracy: 0.9670 - val_loss: 0.1019 - val_accuracy: 0.9686\n",
      "Epoch 51/80\n",
      "25/25 [==============================] - 1s 51ms/step - loss: 0.0978 - accuracy: 0.9693 - val_loss: 0.1024 - val_accuracy: 0.9680\n",
      "Epoch 52/80\n",
      "25/25 [==============================] - 1s 51ms/step - loss: 0.1020 - accuracy: 0.9652 - val_loss: 0.0870 - val_accuracy: 0.9706\n",
      "Epoch 53/80\n",
      "25/25 [==============================] - 1s 53ms/step - loss: 0.1036 - accuracy: 0.9682 - val_loss: 0.0874 - val_accuracy: 0.9714\n",
      "Epoch 54/80\n",
      "25/25 [==============================] - 1s 51ms/step - loss: 0.0889 - accuracy: 0.9703 - val_loss: 0.0889 - val_accuracy: 0.9709\n",
      "Epoch 55/80\n",
      "25/25 [==============================] - 1s 51ms/step - loss: 0.0876 - accuracy: 0.9707 - val_loss: 0.0926 - val_accuracy: 0.9691\n",
      "Epoch 56/80\n",
      "25/25 [==============================] - 1s 51ms/step - loss: 0.0844 - accuracy: 0.9719 - val_loss: 0.0958 - val_accuracy: 0.9677\n",
      "Epoch 57/80\n",
      "25/25 [==============================] - 1s 52ms/step - loss: 0.0951 - accuracy: 0.9697 - val_loss: 0.0792 - val_accuracy: 0.9725\n",
      "Epoch 58/80\n",
      "25/25 [==============================] - 1s 52ms/step - loss: 0.0831 - accuracy: 0.9734 - val_loss: 0.0832 - val_accuracy: 0.9745\n",
      "Epoch 59/80\n",
      "25/25 [==============================] - 1s 52ms/step - loss: 0.0816 - accuracy: 0.9731 - val_loss: 0.0905 - val_accuracy: 0.9695\n",
      "Epoch 60/80\n",
      "25/25 [==============================] - 1s 51ms/step - loss: 0.0765 - accuracy: 0.9750 - val_loss: 0.0829 - val_accuracy: 0.9730\n",
      "Epoch 61/80\n",
      "25/25 [==============================] - 1s 53ms/step - loss: 0.0820 - accuracy: 0.9733 - val_loss: 0.0869 - val_accuracy: 0.9728\n",
      "Epoch 62/80\n",
      "25/25 [==============================] - 1s 52ms/step - loss: 0.0850 - accuracy: 0.9726 - val_loss: 0.0800 - val_accuracy: 0.9737\n",
      "Epoch 63/80\n",
      "25/25 [==============================] - 1s 51ms/step - loss: 0.0789 - accuracy: 0.9755 - val_loss: 0.0839 - val_accuracy: 0.9712\n",
      "Epoch 64/80\n",
      "25/25 [==============================] - 1s 52ms/step - loss: 0.0795 - accuracy: 0.9730 - val_loss: 0.0794 - val_accuracy: 0.9748\n",
      "Epoch 65/80\n",
      "25/25 [==============================] - 1s 52ms/step - loss: 0.0768 - accuracy: 0.9733 - val_loss: 0.0785 - val_accuracy: 0.9755\n",
      "Epoch 66/80\n",
      "25/25 [==============================] - 1s 52ms/step - loss: 0.0740 - accuracy: 0.9740 - val_loss: 0.0798 - val_accuracy: 0.9739\n",
      "Epoch 67/80\n",
      "25/25 [==============================] - 1s 51ms/step - loss: 0.0691 - accuracy: 0.9765 - val_loss: 0.0684 - val_accuracy: 0.9783\n",
      "Epoch 68/80\n",
      "25/25 [==============================] - 1s 54ms/step - loss: 0.0726 - accuracy: 0.9765 - val_loss: 0.0731 - val_accuracy: 0.9741\n",
      "Epoch 69/80\n",
      "25/25 [==============================] - 1s 53ms/step - loss: 0.0661 - accuracy: 0.9779 - val_loss: 0.0726 - val_accuracy: 0.9772\n",
      "Epoch 70/80\n",
      "25/25 [==============================] - 1s 53ms/step - loss: 0.0657 - accuracy: 0.9792 - val_loss: 0.0700 - val_accuracy: 0.9780\n",
      "Epoch 71/80\n",
      "25/25 [==============================] - 1s 52ms/step - loss: 0.0704 - accuracy: 0.9770 - val_loss: 0.0689 - val_accuracy: 0.9789\n",
      "Epoch 72/80\n",
      "25/25 [==============================] - 1s 53ms/step - loss: 0.0660 - accuracy: 0.9780 - val_loss: 0.0715 - val_accuracy: 0.9777\n",
      "Epoch 73/80\n",
      "25/25 [==============================] - 1s 52ms/step - loss: 0.0712 - accuracy: 0.9763 - val_loss: 0.0680 - val_accuracy: 0.9773\n",
      "Epoch 74/80\n",
      "25/25 [==============================] - 1s 52ms/step - loss: 0.0683 - accuracy: 0.9777 - val_loss: 0.0702 - val_accuracy: 0.9792\n",
      "Epoch 75/80\n",
      "25/25 [==============================] - 1s 52ms/step - loss: 0.0642 - accuracy: 0.9791 - val_loss: 0.0701 - val_accuracy: 0.9792\n",
      "Epoch 76/80\n",
      "25/25 [==============================] - 1s 52ms/step - loss: 0.0701 - accuracy: 0.9776 - val_loss: 0.0690 - val_accuracy: 0.9792\n",
      "Epoch 77/80\n",
      "25/25 [==============================] - 1s 52ms/step - loss: 0.0741 - accuracy: 0.9758 - val_loss: 0.0667 - val_accuracy: 0.9794\n",
      "Epoch 78/80\n",
      "25/25 [==============================] - 1s 55ms/step - loss: 0.0565 - accuracy: 0.9815 - val_loss: 0.0695 - val_accuracy: 0.9772\n",
      "Epoch 79/80\n",
      "25/25 [==============================] - 1s 53ms/step - loss: 0.0638 - accuracy: 0.9795 - val_loss: 0.0683 - val_accuracy: 0.9791\n",
      "Epoch 80/80\n",
      "25/25 [==============================] - 1s 52ms/step - loss: 0.0706 - accuracy: 0.9766 - val_loss: 0.0681 - val_accuracy: 0.9789\n"
     ]
    }
   ],
   "source": [
    "tensorboard = keras.callbacks.TensorBoard(\n",
    "    log_dir=\"/content\",\n",
    ")\n",
    "callbacks_list = [\n",
    "    keras.callbacks.EarlyStopping(\n",
    "        monitor=\"accuracy\",\n",
    "        patience=4,\n",
    "    ),\n",
    "    keras.callbacks.ModelCheckpoint(\n",
    "        filepath=\"checkpoint_path.keras\",\n",
    "        monitor=\"val_loss\",\n",
    "        save_best_only=True,\n",
    "    ),\n",
    "    keras.callbacks.ModelCheckpoint(\n",
    "            filepath=\"fine_tuning.keras\",\n",
    "            save_best_only=True,\n",
    "            monitor=\"val_loss\")\n",
    "]\n",
    "model_07.compile(optimizer=\"rmsprop\",\n",
    "    loss=\"sparse_categorical_crossentropy\",\n",
    "    metrics=[\"accuracy\"])\n",
    "history7=model_07.fit(x_data3, y_data, epochs=80,callbacks=[tensorboard], batch_size=1024,validation_split=0.2)"
   ]
  },
  {
   "cell_type": "code",
   "execution_count": 133,
   "metadata": {
    "execution": {
     "iopub.execute_input": "2021-08-13T02:13:15.557574Z",
     "iopub.status.busy": "2021-08-13T02:13:15.557207Z",
     "iopub.status.idle": "2021-08-13T02:13:16.279664Z",
     "shell.execute_reply": "2021-08-13T02:13:16.278690Z",
     "shell.execute_reply.started": "2021-08-13T02:13:15.557542Z"
    }
   },
   "outputs": [
    {
     "data": {
      "image/png": "[encoded data removed]",
      "text/plain": [
       "<Figure size 432x288 with 1 Axes>"
      ]
     },
     "metadata": {
      "needs_background": "light"
     },
     "output_type": "display_data"
    },
    {
     "data": {
      "image/png": "[encoded data removed]",
      "text/plain": [
       "<Figure size 432x288 with 1 Axes>"
      ]
     },
     "metadata": {
      "needs_background": "light"
     },
     "output_type": "display_data"
    }
   ],
   "source": [
    "plotacc(history7)"
   ]
  },
  {
   "cell_type": "markdown",
   "metadata": {},
   "source": [
    "**Summary7**  \n",
    "In model_07,we improve data arguementation by using randomzoom,  \n",
    "as well as change the batch_size from 512 to 1024,  \n",
    "and improve callback by using fine tuning.  \n",
    "The val_acc increased to 0.9789,val_loss decreased to 0.06."
   ]
  },
  {
   "cell_type": "markdown",
   "metadata": {},
   "source": [
    "### Model 8 date 2021/08/10"
   ]
  },
  {
   "cell_type": "code",
   "execution_count": 128,
   "metadata": {
    "execution": {
     "iopub.execute_input": "2021-08-13T01:53:59.634779Z",
     "iopub.status.busy": "2021-08-13T01:53:59.634391Z",
     "iopub.status.idle": "2021-08-13T01:53:59.940830Z",
     "shell.execute_reply": "2021-08-13T01:53:59.939772Z",
     "shell.execute_reply.started": "2021-08-13T01:53:59.634745Z"
    }
   },
   "outputs": [
    {
     "name": "stdout",
     "output_type": "stream",
     "text": [
      "Model: \"sequential_40\"\n",
      "_________________________________________________________________\n",
      "Layer (type)                 Output Shape              Param #   \n",
      "=================================================================\n",
      "sequential_39 (Sequential)   (None, 28, 56, 1)         0         \n",
      "_________________________________________________________________\n",
      "rescaling_8 (Rescaling)      (None, 28, 56, 1)         0         \n",
      "_________________________________________________________________\n",
      "conv2d_54 (Conv2D)           (None, 26, 54, 32)        320       \n",
      "_________________________________________________________________\n",
      "conv2d_55 (Conv2D)           (None, 24, 52, 64)        18496     \n",
      "_________________________________________________________________\n",
      "max_pooling2d_44 (MaxPooling (None, 12, 26, 64)        0         \n",
      "_________________________________________________________________\n",
      "dropout_64 (Dropout)         (None, 12, 26, 64)        0         \n",
      "_________________________________________________________________\n",
      "conv2d_56 (Conv2D)           (None, 10, 24, 128)       73856     \n",
      "_________________________________________________________________\n",
      "conv2d_57 (Conv2D)           (None, 8, 22, 256)        295168    \n",
      "_________________________________________________________________\n",
      "max_pooling2d_45 (MaxPooling (None, 4, 11, 256)        0         \n",
      "_________________________________________________________________\n",
      "dropout_65 (Dropout)         (None, 4, 11, 256)        0         \n",
      "_________________________________________________________________\n",
      "conv2d_58 (Conv2D)           (None, 2, 9, 512)         1180160   \n",
      "_________________________________________________________________\n",
      "max_pooling2d_46 (MaxPooling (None, 1, 4, 512)         0         \n",
      "_________________________________________________________________\n",
      "dropout_66 (Dropout)         (None, 1, 4, 512)         0         \n",
      "_________________________________________________________________\n",
      "flatten_20 (Flatten)         (None, 2048)              0         \n",
      "_________________________________________________________________\n",
      "dense_73 (Dense)             (None, 1024)              2098176   \n",
      "_________________________________________________________________\n",
      "dropout_67 (Dropout)         (None, 1024)              0         \n",
      "_________________________________________________________________\n",
      "dense_74 (Dense)             (None, 10)                10250     \n",
      "=================================================================\n",
      "Total params: 3,676,426\n",
      "Trainable params: 3,676,426\n",
      "Non-trainable params: 0\n",
      "_________________________________________________________________\n"
     ]
    }
   ],
   "source": [
    "#model 08 date 2021/08/10\n",
    "data_augmentation = keras.Sequential(### Model 3 date 2021/08/07\n",
    "  [\n",
    "    layers.experimental.preprocessing.RandomRotation(0.1),\n",
    "    layers.experimental.preprocessing.RandomZoom(0.2),  \n",
    "  ]\n",
    ")\n",
    "model_08 = keras.Sequential([\n",
    "    data_augmentation,\n",
    "    layers.experimental.preprocessing.Rescaling(1./255),\n",
    "    layers.Conv2D(filters=32, kernel_size=3, activation='relu'),\n",
    "    layers.Conv2D(filters=64, kernel_size=3, activation='relu'),\n",
    "    layers.MaxPool2D(),\n",
    "    layers.Dropout(0.2),\n",
    "    layers.Conv2D(filters=128, kernel_size=3, activation='relu'),\n",
    "    layers.Conv2D(filters=256, kernel_size=3, activation='relu'),\n",
    "    layers.MaxPool2D(),\n",
    "    layers.Dropout(0.2),\n",
    "    layers.Conv2D(filters=512, kernel_size=3, activation='relu'),\n",
    "    layers.MaxPool2D(),\n",
    "    layers.Dropout(0.2),\n",
    "    layers.Flatten(),\n",
    "    layers.Dense(1024, activation=\"relu\"),\n",
    "    layers.Dropout(0.2),\n",
    "    layers.Dense(10, activation=\"softmax\")\n",
    "])\n",
    "model_08.build(input_shape=(None,28,56,1))\n",
    "model_08.summary()"
   ]
  },
  {
   "cell_type": "code",
   "execution_count": 129,
   "metadata": {
    "execution": {
     "iopub.execute_input": "2021-08-13T01:54:06.587784Z",
     "iopub.status.busy": "2021-08-13T01:54:06.587448Z",
     "iopub.status.idle": "2021-08-13T01:57:56.400400Z",
     "shell.execute_reply": "2021-08-13T01:57:56.399335Z",
     "shell.execute_reply.started": "2021-08-13T01:54:06.587750Z"
    },
    "id": "rmm9SHq9tkHZ",
    "outputId": "fbc795a1-324c-4041-9e52-b40ae85b0b72"
   },
   "outputs": [
    {
     "name": "stdout",
     "output_type": "stream",
     "text": [
      "Epoch 1/80\n",
      "25/25 [==============================] - 7s 150ms/step - loss: 2.6559 - accuracy: 0.1804 - val_loss: 2.0475 - val_accuracy: 0.1944\n",
      "Epoch 2/80\n",
      "25/25 [==============================] - 3s 113ms/step - loss: 2.0438 - accuracy: 0.2130 - val_loss: 1.8861 - val_accuracy: 0.3142\n",
      "Epoch 3/80\n",
      "25/25 [==============================] - 3s 113ms/step - loss: 1.9629 - accuracy: 0.2942 - val_loss: 1.8986 - val_accuracy: 0.3183\n",
      "Epoch 4/80\n",
      "25/25 [==============================] - 3s 112ms/step - loss: 1.8252 - accuracy: 0.3485 - val_loss: 1.6487 - val_accuracy: 0.4062\n",
      "Epoch 5/80\n",
      "25/25 [==============================] - 3s 112ms/step - loss: 1.5451 - accuracy: 0.4563 - val_loss: 1.5572 - val_accuracy: 0.5081\n",
      "Epoch 6/80\n",
      "25/25 [==============================] - 3s 113ms/step - loss: 1.2988 - accuracy: 0.5565 - val_loss: 0.9689 - val_accuracy: 0.7013\n",
      "Epoch 7/80\n",
      "25/25 [==============================] - 3s 113ms/step - loss: 1.0183 - accuracy: 0.6616 - val_loss: 0.6148 - val_accuracy: 0.8020\n",
      "Epoch 8/80\n",
      "25/25 [==============================] - 3s 112ms/step - loss: 0.7186 - accuracy: 0.7631 - val_loss: 0.4648 - val_accuracy: 0.8477\n",
      "Epoch 9/80\n",
      "25/25 [==============================] - 3s 112ms/step - loss: 0.5953 - accuracy: 0.8049 - val_loss: 0.4104 - val_accuracy: 0.8747\n",
      "Epoch 10/80\n",
      "25/25 [==============================] - 3s 116ms/step - loss: 0.5240 - accuracy: 0.8305 - val_loss: 0.3136 - val_accuracy: 0.8945\n",
      "Epoch 11/80\n",
      "25/25 [==============================] - 3s 114ms/step - loss: 0.4120 - accuracy: 0.8637 - val_loss: 0.3218 - val_accuracy: 0.8995\n",
      "Epoch 12/80\n",
      "25/25 [==============================] - 3s 112ms/step - loss: 0.3916 - accuracy: 0.8752 - val_loss: 0.2973 - val_accuracy: 0.9073\n",
      "Epoch 13/80\n",
      "25/25 [==============================] - 3s 112ms/step - loss: 0.3215 - accuracy: 0.8940 - val_loss: 0.2211 - val_accuracy: 0.9275\n",
      "Epoch 14/80\n",
      "25/25 [==============================] - 3s 114ms/step - loss: 0.2900 - accuracy: 0.9061 - val_loss: 0.1809 - val_accuracy: 0.9431\n",
      "Epoch 15/80\n",
      "25/25 [==============================] - 3s 113ms/step - loss: 0.2531 - accuracy: 0.9187 - val_loss: 0.1861 - val_accuracy: 0.9403\n",
      "Epoch 16/80\n",
      "25/25 [==============================] - 3s 112ms/step - loss: 0.2452 - accuracy: 0.9234 - val_loss: 0.1354 - val_accuracy: 0.9563\n",
      "Epoch 17/80\n",
      "25/25 [==============================] - 3s 113ms/step - loss: 0.2008 - accuracy: 0.9388 - val_loss: 0.1788 - val_accuracy: 0.9450\n",
      "Epoch 18/80\n",
      "25/25 [==============================] - 3s 113ms/step - loss: 0.1961 - accuracy: 0.9373 - val_loss: 0.1455 - val_accuracy: 0.9548\n",
      "Epoch 19/80\n",
      "25/25 [==============================] - 3s 113ms/step - loss: 0.1654 - accuracy: 0.9463 - val_loss: 0.1240 - val_accuracy: 0.9563\n",
      "Epoch 20/80\n",
      "25/25 [==============================] - 3s 112ms/step - loss: 0.1777 - accuracy: 0.9410 - val_loss: 0.1071 - val_accuracy: 0.9650\n",
      "Epoch 21/80\n",
      "25/25 [==============================] - 3s 113ms/step - loss: 0.1390 - accuracy: 0.9547 - val_loss: 0.1036 - val_accuracy: 0.9653\n",
      "Epoch 22/80\n",
      "25/25 [==============================] - 3s 117ms/step - loss: 0.1699 - accuracy: 0.9472 - val_loss: 0.1430 - val_accuracy: 0.9539\n",
      "Epoch 23/80\n",
      "25/25 [==============================] - 3s 113ms/step - loss: 0.1488 - accuracy: 0.9530 - val_loss: 0.0954 - val_accuracy: 0.9678\n",
      "Epoch 24/80\n",
      "25/25 [==============================] - 3s 112ms/step - loss: 0.1319 - accuracy: 0.9568 - val_loss: 0.0992 - val_accuracy: 0.9681\n",
      "Epoch 25/80\n",
      "25/25 [==============================] - 3s 112ms/step - loss: 0.1269 - accuracy: 0.9602 - val_loss: 0.0989 - val_accuracy: 0.9667\n",
      "Epoch 26/80\n",
      "25/25 [==============================] - 3s 112ms/step - loss: 0.1132 - accuracy: 0.9638 - val_loss: 0.0866 - val_accuracy: 0.9700\n",
      "Epoch 27/80\n",
      "25/25 [==============================] - 3s 112ms/step - loss: 0.1144 - accuracy: 0.9627 - val_loss: 0.0711 - val_accuracy: 0.9753\n",
      "Epoch 28/80\n",
      "25/25 [==============================] - 3s 112ms/step - loss: 0.1034 - accuracy: 0.9665 - val_loss: 0.0948 - val_accuracy: 0.9705\n",
      "Epoch 29/80\n",
      "25/25 [==============================] - 3s 112ms/step - loss: 0.1059 - accuracy: 0.9672 - val_loss: 0.0903 - val_accuracy: 0.9723\n",
      "Epoch 30/80\n",
      "25/25 [==============================] - 3s 113ms/step - loss: 0.1050 - accuracy: 0.9650 - val_loss: 0.0799 - val_accuracy: 0.9766\n",
      "Epoch 31/80\n",
      "25/25 [==============================] - 3s 113ms/step - loss: 0.1066 - accuracy: 0.9654 - val_loss: 0.0964 - val_accuracy: 0.9686\n",
      "Epoch 32/80\n",
      "25/25 [==============================] - 3s 112ms/step - loss: 0.0951 - accuracy: 0.9689 - val_loss: 0.0656 - val_accuracy: 0.9784\n",
      "Epoch 33/80\n",
      "25/25 [==============================] - 3s 112ms/step - loss: 0.0836 - accuracy: 0.9745 - val_loss: 0.0881 - val_accuracy: 0.9727\n",
      "Epoch 34/80\n",
      "25/25 [==============================] - 3s 116ms/step - loss: 0.0955 - accuracy: 0.9681 - val_loss: 0.0563 - val_accuracy: 0.9820\n",
      "Epoch 35/80\n",
      "25/25 [==============================] - 3s 112ms/step - loss: 0.0839 - accuracy: 0.9720 - val_loss: 0.0726 - val_accuracy: 0.9783\n",
      "Epoch 36/80\n",
      "25/25 [==============================] - 3s 112ms/step - loss: 0.0866 - accuracy: 0.9714 - val_loss: 0.0554 - val_accuracy: 0.9831\n",
      "Epoch 37/80\n",
      "25/25 [==============================] - 3s 113ms/step - loss: 0.0844 - accuracy: 0.9728 - val_loss: 0.0602 - val_accuracy: 0.9806\n",
      "Epoch 38/80\n",
      "25/25 [==============================] - 3s 113ms/step - loss: 0.0772 - accuracy: 0.9751 - val_loss: 0.0650 - val_accuracy: 0.9787\n",
      "Epoch 39/80\n",
      "25/25 [==============================] - 3s 113ms/step - loss: 0.0743 - accuracy: 0.9758 - val_loss: 0.0678 - val_accuracy: 0.9797\n",
      "Epoch 40/80\n",
      "25/25 [==============================] - 3s 113ms/step - loss: 0.0760 - accuracy: 0.9755 - val_loss: 0.0518 - val_accuracy: 0.9853\n",
      "Epoch 41/80\n",
      "25/25 [==============================] - 3s 113ms/step - loss: 0.0743 - accuracy: 0.9765 - val_loss: 0.0505 - val_accuracy: 0.9842\n",
      "Epoch 42/80\n",
      "25/25 [==============================] - 3s 113ms/step - loss: 0.0683 - accuracy: 0.9785 - val_loss: 0.0580 - val_accuracy: 0.9828\n",
      "Epoch 43/80\n",
      "25/25 [==============================] - 3s 112ms/step - loss: 0.0699 - accuracy: 0.9766 - val_loss: 0.0561 - val_accuracy: 0.9827\n",
      "Epoch 44/80\n",
      "25/25 [==============================] - 3s 112ms/step - loss: 0.0702 - accuracy: 0.9770 - val_loss: 0.0607 - val_accuracy: 0.9820\n",
      "Epoch 45/80\n",
      "25/25 [==============================] - 3s 114ms/step - loss: 0.0724 - accuracy: 0.9772 - val_loss: 0.0451 - val_accuracy: 0.9869\n",
      "Epoch 46/80\n",
      "25/25 [==============================] - 3s 115ms/step - loss: 0.0668 - accuracy: 0.9783 - val_loss: 0.0550 - val_accuracy: 0.9825\n",
      "Epoch 47/80\n",
      "25/25 [==============================] - 3s 112ms/step - loss: 0.0659 - accuracy: 0.9784 - val_loss: 0.0517 - val_accuracy: 0.9841\n",
      "Epoch 48/80\n",
      "25/25 [==============================] - 3s 112ms/step - loss: 0.0704 - accuracy: 0.9773 - val_loss: 0.0505 - val_accuracy: 0.9853\n",
      "Epoch 49/80\n",
      "25/25 [==============================] - 3s 114ms/step - loss: 0.0625 - accuracy: 0.9798 - val_loss: 0.0476 - val_accuracy: 0.9847\n",
      "Epoch 50/80\n",
      "25/25 [==============================] - 3s 112ms/step - loss: 0.0610 - accuracy: 0.9797 - val_loss: 0.0436 - val_accuracy: 0.9866\n",
      "Epoch 51/80\n",
      "25/25 [==============================] - 3s 112ms/step - loss: 0.0601 - accuracy: 0.9799 - val_loss: 0.0398 - val_accuracy: 0.9880\n",
      "Epoch 52/80\n",
      "25/25 [==============================] - 3s 113ms/step - loss: 0.0630 - accuracy: 0.9799 - val_loss: 0.0432 - val_accuracy: 0.9858\n",
      "Epoch 53/80\n",
      "25/25 [==============================] - 3s 114ms/step - loss: 0.0587 - accuracy: 0.9814 - val_loss: 0.0401 - val_accuracy: 0.9870\n",
      "Epoch 54/80\n",
      "25/25 [==============================] - 3s 112ms/step - loss: 0.0673 - accuracy: 0.9794 - val_loss: 0.0336 - val_accuracy: 0.9883\n",
      "Epoch 55/80\n",
      "25/25 [==============================] - 3s 112ms/step - loss: 0.0540 - accuracy: 0.9824 - val_loss: 0.0458 - val_accuracy: 0.9855\n",
      "Epoch 56/80\n",
      "25/25 [==============================] - 3s 112ms/step - loss: 0.0597 - accuracy: 0.9820 - val_loss: 0.0349 - val_accuracy: 0.9895\n",
      "Epoch 57/80\n",
      "25/25 [==============================] - 3s 120ms/step - loss: 0.0524 - accuracy: 0.9822 - val_loss: 0.0365 - val_accuracy: 0.9887\n",
      "Epoch 58/80\n",
      "25/25 [==============================] - 3s 113ms/step - loss: 0.0553 - accuracy: 0.9826 - val_loss: 0.0385 - val_accuracy: 0.9886\n",
      "Epoch 59/80\n",
      "25/25 [==============================] - 3s 112ms/step - loss: 0.0510 - accuracy: 0.9834 - val_loss: 0.0308 - val_accuracy: 0.9908\n",
      "Epoch 60/80\n",
      "25/25 [==============================] - 3s 113ms/step - loss: 0.0529 - accuracy: 0.9824 - val_loss: 0.0476 - val_accuracy: 0.9883\n",
      "Epoch 61/80\n",
      "25/25 [==============================] - 3s 114ms/step - loss: 0.0567 - accuracy: 0.9826 - val_loss: 0.0406 - val_accuracy: 0.9869\n",
      "Epoch 62/80\n",
      "25/25 [==============================] - 3s 113ms/step - loss: 0.0518 - accuracy: 0.9826 - val_loss: 0.0366 - val_accuracy: 0.9895\n",
      "Epoch 63/80\n",
      "25/25 [==============================] - 3s 113ms/step - loss: 0.0523 - accuracy: 0.9828 - val_loss: 0.0399 - val_accuracy: 0.9887\n",
      "Epoch 64/80\n",
      "25/25 [==============================] - 3s 113ms/step - loss: 0.0459 - accuracy: 0.9852 - val_loss: 0.0484 - val_accuracy: 0.9858\n",
      "Epoch 65/80\n",
      "25/25 [==============================] - 3s 114ms/step - loss: 0.0507 - accuracy: 0.9820 - val_loss: 0.0387 - val_accuracy: 0.9883\n",
      "Epoch 66/80\n",
      "25/25 [==============================] - 3s 113ms/step - loss: 0.0498 - accuracy: 0.9839 - val_loss: 0.0337 - val_accuracy: 0.9897\n",
      "Epoch 67/80\n",
      "25/25 [==============================] - 3s 113ms/step - loss: 0.0506 - accuracy: 0.9835 - val_loss: 0.0403 - val_accuracy: 0.9883\n",
      "Epoch 68/80\n",
      "25/25 [==============================] - 3s 113ms/step - loss: 0.0476 - accuracy: 0.9828 - val_loss: 0.0348 - val_accuracy: 0.9920\n",
      "Epoch 69/80\n",
      "25/25 [==============================] - 3s 116ms/step - loss: 0.0454 - accuracy: 0.9855 - val_loss: 0.0303 - val_accuracy: 0.9925\n",
      "Epoch 70/80\n",
      "25/25 [==============================] - 3s 112ms/step - loss: 0.0467 - accuracy: 0.9859 - val_loss: 0.0319 - val_accuracy: 0.9912\n",
      "Epoch 71/80\n",
      "25/25 [==============================] - 3s 113ms/step - loss: 0.0439 - accuracy: 0.9855 - val_loss: 0.0370 - val_accuracy: 0.9894\n",
      "Epoch 72/80\n",
      "25/25 [==============================] - 3s 113ms/step - loss: 0.0498 - accuracy: 0.9850 - val_loss: 0.0358 - val_accuracy: 0.9898\n",
      "Epoch 73/80\n",
      "25/25 [==============================] - 3s 114ms/step - loss: 0.0456 - accuracy: 0.9859 - val_loss: 0.0311 - val_accuracy: 0.9912\n",
      "Epoch 74/80\n",
      "25/25 [==============================] - 3s 112ms/step - loss: 0.0426 - accuracy: 0.9858 - val_loss: 0.0430 - val_accuracy: 0.9869\n",
      "Epoch 75/80\n",
      "25/25 [==============================] - 3s 113ms/step - loss: 0.0442 - accuracy: 0.9852 - val_loss: 0.0360 - val_accuracy: 0.9895\n",
      "Epoch 76/80\n",
      "25/25 [==============================] - 3s 112ms/step - loss: 0.0422 - accuracy: 0.9862 - val_loss: 0.0291 - val_accuracy: 0.9927\n",
      "Epoch 77/80\n",
      "25/25 [==============================] - 3s 114ms/step - loss: 0.0470 - accuracy: 0.9850 - val_loss: 0.0358 - val_accuracy: 0.9902\n",
      "Epoch 78/80\n",
      "25/25 [==============================] - 3s 112ms/step - loss: 0.0443 - accuracy: 0.9847 - val_loss: 0.0330 - val_accuracy: 0.9912\n",
      "Epoch 79/80\n",
      "25/25 [==============================] - 3s 112ms/step - loss: 0.0451 - accuracy: 0.9846 - val_loss: 0.0284 - val_accuracy: 0.9925\n",
      "Epoch 80/80\n",
      "25/25 [==============================] - 3s 112ms/step - loss: 0.0399 - accuracy: 0.9878 - val_loss: 0.0404 - val_accuracy: 0.9906\n"
     ]
    }
   ],
   "source": [
    "tensorboard = keras.callbacks.TensorBoard(\n",
    "    log_dir=\"/content\",\n",
    ")\n",
    "callbacks_list = [\n",
    "    keras.callbacks.EarlyStopping(\n",
    "        monitor=\"accuracy\",\n",
    "        patience=4,\n",
    "    ),\n",
    "    keras.callbacks.ModelCheckpoint(\n",
    "        filepath=\"checkpoint_path.keras\",\n",
    "        monitor=\"val_loss\",\n",
    "        save_best_only=True,\n",
    "    ),\n",
    "    keras.callbacks.ModelCheckpoint(\n",
    "            filepath=\"fine_tuning.keras\",\n",
    "            save_best_only=True,\n",
    "            monitor=\"val_loss\")\n",
    "]\n",
    "model_08.compile(optimizer=\"rmsprop\",\n",
    "    loss=\"sparse_categorical_crossentropy\",\n",
    "    metrics=[\"accuracy\"])\n",
    "history8=model_08.fit(x_data3, y_data, epochs=80,callbacks=[tensorboard], batch_size=1024,validation_split=0.2)"
   ]
  },
  {
   "cell_type": "code",
   "execution_count": 132,
   "metadata": {
    "execution": {
     "iopub.execute_input": "2021-08-13T02:03:40.876472Z",
     "iopub.status.busy": "2021-08-13T02:03:40.876127Z",
     "iopub.status.idle": "2021-08-13T02:03:41.223705Z",
     "shell.execute_reply": "2021-08-13T02:03:41.222558Z",
     "shell.execute_reply.started": "2021-08-13T02:03:40.876439Z"
    }
   },
   "outputs": [
    {
     "data": {
      "image/png": "[encoded data removed]",
      "text/plain": [
       "<Figure size 432x288 with 1 Axes>"
      ]
     },
     "metadata": {
      "needs_background": "light"
     },
     "output_type": "display_data"
    },
    {
     "data": {
      "image/png": "[encoded data removed]",
      "text/plain": [
       "<Figure size 432x288 with 1 Axes>"
      ]
     },
     "metadata": {
      "needs_background": "light"
     },
     "output_type": "display_data"
    }
   ],
   "source": [
    "plotacc(history8)"
   ]
  },
  {
   "cell_type": "markdown",
   "metadata": {},
   "source": [
    "**Summary8**  \n",
    "In this model,we change the filters of Convolution layer,  \n",
    "which had a little improvement.  \n",
    "The val_acc improve to 0.99,val_loss decrease to 0.02."
   ]
  },
  {
   "cell_type": "markdown",
   "metadata": {},
   "source": [
    "# Save the prediction"
   ]
  },
  {
   "cell_type": "code",
   "execution_count": null,
   "metadata": {},
   "outputs": [],
   "source": [
    "x_test3 = x_test.astype('float32')\n",
    "x_test3 = np.expand_dims(x_test3, axis=-1)\n",
    "# use model_08 for prediction\n",
    "y_predict = model_08.predict(x_test3)"
   ]
  },
  {
   "cell_type": "code",
   "execution_count": null,
   "metadata": {
    "execution": {
     "iopub.execute_input": "2021-08-08T02:57:50.140504Z",
     "iopub.status.busy": "2021-08-08T02:57:50.14014Z",
     "iopub.status.idle": "2021-08-08T02:57:50.189653Z",
     "shell.execute_reply": "2021-08-08T02:57:50.188882Z",
     "shell.execute_reply.started": "2021-08-08T02:57:50.140467Z"
    },
    "id": "QQyRKcaY4-iQ",
    "outputId": "7faf70fa-b2fa-4f9f-c498-c3bc4bc44383"
   },
   "outputs": [],
   "source": [
    "df_predictions = pd.DataFrame(y_predict, columns=['solution_' + str(i) for i in range(10)])\n",
    "df_predictions.index.rename('Id', inplace=True)\n",
    "df_predictions[0:15]"
   ]
  },
  {
   "cell_type": "code",
   "execution_count": null,
   "metadata": {
    "execution": {
     "iopub.execute_input": "2021-08-07T13:49:43.482496Z",
     "iopub.status.busy": "2021-08-07T13:49:43.482124Z",
     "iopub.status.idle": "2021-08-07T13:49:43.652112Z",
     "shell.execute_reply": "2021-08-07T13:49:43.651128Z",
     "shell.execute_reply.started": "2021-08-07T13:49:43.482456Z"
    },
    "id": "cYinOCw335nW"
   },
   "outputs": [],
   "source": [
    "df_predictions.to_csv('df_predictions.csv')"
   ]
  }
 ],
 "metadata": {
  "kernelspec": {
   "display_name": "Python 3",
   "language": "python",
   "name": "python3"
  },
  "language_info": {
   "codemirror_mode": {
    "name": "ipython",
    "version": 3
   },
   "file_extension": ".py",
   "mimetype": "text/x-python",
   "name": "python",
   "nbconvert_exporter": "python",
   "pygments_lexer": "ipython3",
   "version": "3.8.5"
  }
 },
 "nbformat": 4,
 "nbformat_minor": 4
}
